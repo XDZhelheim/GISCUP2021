{
 "metadata": {
  "orig_nbformat": 4,
  "kernelspec": {
   "name": "dz",
   "display_name": "dz",
   "language": "python"
  }
 },
 "nbformat": 4,
 "nbformat_minor": 2,
 "cells": [
  {
   "cell_type": "code",
   "execution_count": 522,
   "metadata": {},
   "outputs": [
    {
     "output_type": "execute_result",
     "data": {
      "text/plain": [
       "'/home/cseadmin/undergrad1/dz/GISCUP2021/data_process'"
      ]
     },
     "metadata": {},
     "execution_count": 522
    }
   ],
   "source": [
    "import os\n",
    "import pandas as pd\n",
    "import matplotlib.pyplot as plt\n",
    "import numpy as np\n",
    "\n",
    "os.getcwd()"
   ]
  },
  {
   "cell_type": "code",
   "execution_count": 523,
   "metadata": {},
   "outputs": [],
   "source": [
    "df_link=pd.read_csv(\"../data/train/train_link/20200801.csv\", nrows=1000)\n",
    "df_cross=pd.read_csv(\"../data/train/train_cross/20200801.csv\", nrows=1000)"
   ]
  },
  {
   "cell_type": "code",
   "execution_count": 524,
   "metadata": {},
   "outputs": [
    {
     "output_type": "execute_result",
     "data": {
      "text/plain": [
       "     order_id  link_id  link_time  link_ratio  link_current_status  \\\n",
       "0     5966280   157298     4.5000      1.0000                    1   \n",
       "1     5966280   511622     2.8552      1.0000                    1   \n",
       "2     5966280   524542     2.2345      1.0000                    1   \n",
       "3     5966280    97293     3.6000      1.0000                    1   \n",
       "4     5966280   273845     3.2276      1.0000                    1   \n",
       "..        ...      ...        ...         ...                  ...   \n",
       "995   4144356   254845     2.5297      1.0000                    1   \n",
       "996   4144356   397390     6.4664      0.7254                    1   \n",
       "997   4516865   501423     5.6415      0.3660                    0   \n",
       "998   4516865    74783     9.0000      1.0000                    0   \n",
       "999   4516865    57402     4.2545      1.0000                    0   \n",
       "\n",
       "     link_arrival_status  \n",
       "0                      0  \n",
       "1                      1  \n",
       "2                      0  \n",
       "3                      1  \n",
       "4                      1  \n",
       "..                   ...  \n",
       "995                    1  \n",
       "996                    0  \n",
       "997                    0  \n",
       "998                    0  \n",
       "999                    0  \n",
       "\n",
       "[1000 rows x 6 columns]"
      ],
      "text/html": "<div>\n<style scoped>\n    .dataframe tbody tr th:only-of-type {\n        vertical-align: middle;\n    }\n\n    .dataframe tbody tr th {\n        vertical-align: top;\n    }\n\n    .dataframe thead th {\n        text-align: right;\n    }\n</style>\n<table border=\"1\" class=\"dataframe\">\n  <thead>\n    <tr style=\"text-align: right;\">\n      <th></th>\n      <th>order_id</th>\n      <th>link_id</th>\n      <th>link_time</th>\n      <th>link_ratio</th>\n      <th>link_current_status</th>\n      <th>link_arrival_status</th>\n    </tr>\n  </thead>\n  <tbody>\n    <tr>\n      <th>0</th>\n      <td>5966280</td>\n      <td>157298</td>\n      <td>4.5000</td>\n      <td>1.0000</td>\n      <td>1</td>\n      <td>0</td>\n    </tr>\n    <tr>\n      <th>1</th>\n      <td>5966280</td>\n      <td>511622</td>\n      <td>2.8552</td>\n      <td>1.0000</td>\n      <td>1</td>\n      <td>1</td>\n    </tr>\n    <tr>\n      <th>2</th>\n      <td>5966280</td>\n      <td>524542</td>\n      <td>2.2345</td>\n      <td>1.0000</td>\n      <td>1</td>\n      <td>0</td>\n    </tr>\n    <tr>\n      <th>3</th>\n      <td>5966280</td>\n      <td>97293</td>\n      <td>3.6000</td>\n      <td>1.0000</td>\n      <td>1</td>\n      <td>1</td>\n    </tr>\n    <tr>\n      <th>4</th>\n      <td>5966280</td>\n      <td>273845</td>\n      <td>3.2276</td>\n      <td>1.0000</td>\n      <td>1</td>\n      <td>1</td>\n    </tr>\n    <tr>\n      <th>...</th>\n      <td>...</td>\n      <td>...</td>\n      <td>...</td>\n      <td>...</td>\n      <td>...</td>\n      <td>...</td>\n    </tr>\n    <tr>\n      <th>995</th>\n      <td>4144356</td>\n      <td>254845</td>\n      <td>2.5297</td>\n      <td>1.0000</td>\n      <td>1</td>\n      <td>1</td>\n    </tr>\n    <tr>\n      <th>996</th>\n      <td>4144356</td>\n      <td>397390</td>\n      <td>6.4664</td>\n      <td>0.7254</td>\n      <td>1</td>\n      <td>0</td>\n    </tr>\n    <tr>\n      <th>997</th>\n      <td>4516865</td>\n      <td>501423</td>\n      <td>5.6415</td>\n      <td>0.3660</td>\n      <td>0</td>\n      <td>0</td>\n    </tr>\n    <tr>\n      <th>998</th>\n      <td>4516865</td>\n      <td>74783</td>\n      <td>9.0000</td>\n      <td>1.0000</td>\n      <td>0</td>\n      <td>0</td>\n    </tr>\n    <tr>\n      <th>999</th>\n      <td>4516865</td>\n      <td>57402</td>\n      <td>4.2545</td>\n      <td>1.0000</td>\n      <td>0</td>\n      <td>0</td>\n    </tr>\n  </tbody>\n</table>\n<p>1000 rows × 6 columns</p>\n</div>"
     },
     "metadata": {},
     "execution_count": 524
    }
   ],
   "source": [
    "df_link"
   ]
  },
  {
   "cell_type": "code",
   "execution_count": 525,
   "metadata": {},
   "outputs": [
    {
     "output_type": "execute_result",
     "data": {
      "text/plain": [
       "     order_id       cross id  cross_time\n",
       "0     5966280   47128_204460        23.0\n",
       "1     5966280  624101_153565        30.0\n",
       "2     5966280   30464_397883        26.0\n",
       "3     5966280  160457_527119        18.0\n",
       "4     5966280  597673_507113        30.0\n",
       "..        ...            ...         ...\n",
       "994   4812329  224111_178502        15.0\n",
       "995   5116124  544005_316701         9.0\n",
       "996   5116124  146672_155592        30.0\n",
       "997   5116124    1813_368869        30.0\n",
       "999   8083821  605850_422457        14.0\n",
       "\n",
       "[985 rows x 3 columns]"
      ],
      "text/html": "<div>\n<style scoped>\n    .dataframe tbody tr th:only-of-type {\n        vertical-align: middle;\n    }\n\n    .dataframe tbody tr th {\n        vertical-align: top;\n    }\n\n    .dataframe thead th {\n        text-align: right;\n    }\n</style>\n<table border=\"1\" class=\"dataframe\">\n  <thead>\n    <tr style=\"text-align: right;\">\n      <th></th>\n      <th>order_id</th>\n      <th>cross id</th>\n      <th>cross_time</th>\n    </tr>\n  </thead>\n  <tbody>\n    <tr>\n      <th>0</th>\n      <td>5966280</td>\n      <td>47128_204460</td>\n      <td>23.0</td>\n    </tr>\n    <tr>\n      <th>1</th>\n      <td>5966280</td>\n      <td>624101_153565</td>\n      <td>30.0</td>\n    </tr>\n    <tr>\n      <th>2</th>\n      <td>5966280</td>\n      <td>30464_397883</td>\n      <td>26.0</td>\n    </tr>\n    <tr>\n      <th>3</th>\n      <td>5966280</td>\n      <td>160457_527119</td>\n      <td>18.0</td>\n    </tr>\n    <tr>\n      <th>4</th>\n      <td>5966280</td>\n      <td>597673_507113</td>\n      <td>30.0</td>\n    </tr>\n    <tr>\n      <th>...</th>\n      <td>...</td>\n      <td>...</td>\n      <td>...</td>\n    </tr>\n    <tr>\n      <th>994</th>\n      <td>4812329</td>\n      <td>224111_178502</td>\n      <td>15.0</td>\n    </tr>\n    <tr>\n      <th>995</th>\n      <td>5116124</td>\n      <td>544005_316701</td>\n      <td>9.0</td>\n    </tr>\n    <tr>\n      <th>996</th>\n      <td>5116124</td>\n      <td>146672_155592</td>\n      <td>30.0</td>\n    </tr>\n    <tr>\n      <th>997</th>\n      <td>5116124</td>\n      <td>1813_368869</td>\n      <td>30.0</td>\n    </tr>\n    <tr>\n      <th>999</th>\n      <td>8083821</td>\n      <td>605850_422457</td>\n      <td>14.0</td>\n    </tr>\n  </tbody>\n</table>\n<p>985 rows × 3 columns</p>\n</div>"
     },
     "metadata": {},
     "execution_count": 525
    }
   ],
   "source": [
    "df_cross=df_cross.dropna()\n",
    "\n",
    "df_cross"
   ]
  },
  {
   "source": [
    "## 1. 添加 cross_flag"
   ],
   "cell_type": "markdown",
   "metadata": {}
  },
  {
   "cell_type": "code",
   "execution_count": 526,
   "metadata": {},
   "outputs": [
    {
     "output_type": "execute_result",
     "data": {
      "text/plain": [
       "     order_id  link_id  link_time  link_ratio  link_current_status  \\\n",
       "0     5966280   157298     4.5000      1.0000                    1   \n",
       "1     5966280   511622     2.8552      1.0000                    1   \n",
       "2     5966280   524542     2.2345      1.0000                    1   \n",
       "3     5966280    97293     3.6000      1.0000                    1   \n",
       "4     5966280   273845     3.2276      1.0000                    1   \n",
       "..        ...      ...        ...         ...                  ...   \n",
       "995   4144356   254845     2.5297      1.0000                    1   \n",
       "996   4144356   397390     6.4664      0.7254                    1   \n",
       "997   4516865   501423     5.6415      0.3660                    0   \n",
       "998   4516865    74783     9.0000      1.0000                    0   \n",
       "999   4516865    57402     4.2545      1.0000                    0   \n",
       "\n",
       "     link_arrival_status  cross_flag  \n",
       "0                      0           0  \n",
       "1                      1           0  \n",
       "2                      0           0  \n",
       "3                      1           0  \n",
       "4                      1           0  \n",
       "..                   ...         ...  \n",
       "995                    1           0  \n",
       "996                    0           0  \n",
       "997                    0           0  \n",
       "998                    0           0  \n",
       "999                    0           0  \n",
       "\n",
       "[1000 rows x 7 columns]"
      ],
      "text/html": "<div>\n<style scoped>\n    .dataframe tbody tr th:only-of-type {\n        vertical-align: middle;\n    }\n\n    .dataframe tbody tr th {\n        vertical-align: top;\n    }\n\n    .dataframe thead th {\n        text-align: right;\n    }\n</style>\n<table border=\"1\" class=\"dataframe\">\n  <thead>\n    <tr style=\"text-align: right;\">\n      <th></th>\n      <th>order_id</th>\n      <th>link_id</th>\n      <th>link_time</th>\n      <th>link_ratio</th>\n      <th>link_current_status</th>\n      <th>link_arrival_status</th>\n      <th>cross_flag</th>\n    </tr>\n  </thead>\n  <tbody>\n    <tr>\n      <th>0</th>\n      <td>5966280</td>\n      <td>157298</td>\n      <td>4.5000</td>\n      <td>1.0000</td>\n      <td>1</td>\n      <td>0</td>\n      <td>0</td>\n    </tr>\n    <tr>\n      <th>1</th>\n      <td>5966280</td>\n      <td>511622</td>\n      <td>2.8552</td>\n      <td>1.0000</td>\n      <td>1</td>\n      <td>1</td>\n      <td>0</td>\n    </tr>\n    <tr>\n      <th>2</th>\n      <td>5966280</td>\n      <td>524542</td>\n      <td>2.2345</td>\n      <td>1.0000</td>\n      <td>1</td>\n      <td>0</td>\n      <td>0</td>\n    </tr>\n    <tr>\n      <th>3</th>\n      <td>5966280</td>\n      <td>97293</td>\n      <td>3.6000</td>\n      <td>1.0000</td>\n      <td>1</td>\n      <td>1</td>\n      <td>0</td>\n    </tr>\n    <tr>\n      <th>4</th>\n      <td>5966280</td>\n      <td>273845</td>\n      <td>3.2276</td>\n      <td>1.0000</td>\n      <td>1</td>\n      <td>1</td>\n      <td>0</td>\n    </tr>\n    <tr>\n      <th>...</th>\n      <td>...</td>\n      <td>...</td>\n      <td>...</td>\n      <td>...</td>\n      <td>...</td>\n      <td>...</td>\n      <td>...</td>\n    </tr>\n    <tr>\n      <th>995</th>\n      <td>4144356</td>\n      <td>254845</td>\n      <td>2.5297</td>\n      <td>1.0000</td>\n      <td>1</td>\n      <td>1</td>\n      <td>0</td>\n    </tr>\n    <tr>\n      <th>996</th>\n      <td>4144356</td>\n      <td>397390</td>\n      <td>6.4664</td>\n      <td>0.7254</td>\n      <td>1</td>\n      <td>0</td>\n      <td>0</td>\n    </tr>\n    <tr>\n      <th>997</th>\n      <td>4516865</td>\n      <td>501423</td>\n      <td>5.6415</td>\n      <td>0.3660</td>\n      <td>0</td>\n      <td>0</td>\n      <td>0</td>\n    </tr>\n    <tr>\n      <th>998</th>\n      <td>4516865</td>\n      <td>74783</td>\n      <td>9.0000</td>\n      <td>1.0000</td>\n      <td>0</td>\n      <td>0</td>\n      <td>0</td>\n    </tr>\n    <tr>\n      <th>999</th>\n      <td>4516865</td>\n      <td>57402</td>\n      <td>4.2545</td>\n      <td>1.0000</td>\n      <td>0</td>\n      <td>0</td>\n      <td>0</td>\n    </tr>\n  </tbody>\n</table>\n<p>1000 rows × 7 columns</p>\n</div>"
     },
     "metadata": {},
     "execution_count": 526
    }
   ],
   "source": [
    "df_link[\"cross_flag\"]=0\n",
    "\n",
    "df_link"
   ]
  },
  {
   "source": [
    "## 2. 获取每行 index+2 的 link_id (这里 O(n) 的操作不知道为什么非常耗时)"
   ],
   "cell_type": "markdown",
   "metadata": {}
  },
  {
   "cell_type": "code",
   "execution_count": 527,
   "metadata": {},
   "outputs": [],
   "source": [
    "def get_next_2_link_id(index):\n",
    "    if index+2<=df_link.last_valid_index():\n",
    "        return df_link.loc[index+2, \"link_id\"]\n",
    "    return -1"
   ]
  },
  {
   "cell_type": "code",
   "execution_count": 528,
   "metadata": {
    "tags": []
   },
   "outputs": [
    {
     "output_type": "execute_result",
     "data": {
      "text/plain": [
       "     order_id  link_id  link_time  link_ratio  link_current_status  \\\n",
       "0     5966280   157298     4.5000      1.0000                    1   \n",
       "1     5966280   511622     2.8552      1.0000                    1   \n",
       "2     5966280   524542     2.2345      1.0000                    1   \n",
       "3     5966280    97293     3.6000      1.0000                    1   \n",
       "4     5966280   273845     3.2276      1.0000                    1   \n",
       "..        ...      ...        ...         ...                  ...   \n",
       "995   4144356   254845     2.5297      1.0000                    1   \n",
       "996   4144356   397390     6.4664      0.7254                    1   \n",
       "997   4516865   501423     5.6415      0.3660                    0   \n",
       "998   4516865    74783     9.0000      1.0000                    0   \n",
       "999   4516865    57402     4.2545      1.0000                    0   \n",
       "\n",
       "     link_arrival_status  cross_flag  next_2_link_id  \n",
       "0                      0           0          524542  \n",
       "1                      1           0           97293  \n",
       "2                      0           0          273845  \n",
       "3                      1           0          556273  \n",
       "4                      1           0           73842  \n",
       "..                   ...         ...             ...  \n",
       "995                    1           0          501423  \n",
       "996                    0           0           74783  \n",
       "997                    0           0           57402  \n",
       "998                    0           0              -1  \n",
       "999                    0           0              -1  \n",
       "\n",
       "[1000 rows x 8 columns]"
      ],
      "text/html": "<div>\n<style scoped>\n    .dataframe tbody tr th:only-of-type {\n        vertical-align: middle;\n    }\n\n    .dataframe tbody tr th {\n        vertical-align: top;\n    }\n\n    .dataframe thead th {\n        text-align: right;\n    }\n</style>\n<table border=\"1\" class=\"dataframe\">\n  <thead>\n    <tr style=\"text-align: right;\">\n      <th></th>\n      <th>order_id</th>\n      <th>link_id</th>\n      <th>link_time</th>\n      <th>link_ratio</th>\n      <th>link_current_status</th>\n      <th>link_arrival_status</th>\n      <th>cross_flag</th>\n      <th>next_2_link_id</th>\n    </tr>\n  </thead>\n  <tbody>\n    <tr>\n      <th>0</th>\n      <td>5966280</td>\n      <td>157298</td>\n      <td>4.5000</td>\n      <td>1.0000</td>\n      <td>1</td>\n      <td>0</td>\n      <td>0</td>\n      <td>524542</td>\n    </tr>\n    <tr>\n      <th>1</th>\n      <td>5966280</td>\n      <td>511622</td>\n      <td>2.8552</td>\n      <td>1.0000</td>\n      <td>1</td>\n      <td>1</td>\n      <td>0</td>\n      <td>97293</td>\n    </tr>\n    <tr>\n      <th>2</th>\n      <td>5966280</td>\n      <td>524542</td>\n      <td>2.2345</td>\n      <td>1.0000</td>\n      <td>1</td>\n      <td>0</td>\n      <td>0</td>\n      <td>273845</td>\n    </tr>\n    <tr>\n      <th>3</th>\n      <td>5966280</td>\n      <td>97293</td>\n      <td>3.6000</td>\n      <td>1.0000</td>\n      <td>1</td>\n      <td>1</td>\n      <td>0</td>\n      <td>556273</td>\n    </tr>\n    <tr>\n      <th>4</th>\n      <td>5966280</td>\n      <td>273845</td>\n      <td>3.2276</td>\n      <td>1.0000</td>\n      <td>1</td>\n      <td>1</td>\n      <td>0</td>\n      <td>73842</td>\n    </tr>\n    <tr>\n      <th>...</th>\n      <td>...</td>\n      <td>...</td>\n      <td>...</td>\n      <td>...</td>\n      <td>...</td>\n      <td>...</td>\n      <td>...</td>\n      <td>...</td>\n    </tr>\n    <tr>\n      <th>995</th>\n      <td>4144356</td>\n      <td>254845</td>\n      <td>2.5297</td>\n      <td>1.0000</td>\n      <td>1</td>\n      <td>1</td>\n      <td>0</td>\n      <td>501423</td>\n    </tr>\n    <tr>\n      <th>996</th>\n      <td>4144356</td>\n      <td>397390</td>\n      <td>6.4664</td>\n      <td>0.7254</td>\n      <td>1</td>\n      <td>0</td>\n      <td>0</td>\n      <td>74783</td>\n    </tr>\n    <tr>\n      <th>997</th>\n      <td>4516865</td>\n      <td>501423</td>\n      <td>5.6415</td>\n      <td>0.3660</td>\n      <td>0</td>\n      <td>0</td>\n      <td>0</td>\n      <td>57402</td>\n    </tr>\n    <tr>\n      <th>998</th>\n      <td>4516865</td>\n      <td>74783</td>\n      <td>9.0000</td>\n      <td>1.0000</td>\n      <td>0</td>\n      <td>0</td>\n      <td>0</td>\n      <td>-1</td>\n    </tr>\n    <tr>\n      <th>999</th>\n      <td>4516865</td>\n      <td>57402</td>\n      <td>4.2545</td>\n      <td>1.0000</td>\n      <td>0</td>\n      <td>0</td>\n      <td>0</td>\n      <td>-1</td>\n    </tr>\n  </tbody>\n</table>\n<p>1000 rows × 8 columns</p>\n</div>"
     },
     "metadata": {},
     "execution_count": 528
    }
   ],
   "source": [
    "df_link[\"next_2_link_id\"]=df_link.apply(lambda row: get_next_2_link_id(row.name), axis=1)\n",
    "\n",
    "df_link"
   ]
  },
  {
   "source": [
    "## 3. 插值"
   ],
   "cell_type": "markdown",
   "metadata": {}
  },
  {
   "cell_type": "code",
   "execution_count": 529,
   "metadata": {},
   "outputs": [],
   "source": [
    "def insert_cross(row):\n",
    "    global df_link\n",
    "\n",
    "    link1, link2=list(map(int, row[\"cross id\"].split(\"_\")))\n",
    "    index=df_link.loc[(df_link[\"order_id\"]==row[\"order_id\"]) & (df_link[\"link_id\"]==link1) & (df_link[\"next_2_link_id\"]==link2)]\n",
    "\n",
    "    if index.empty:\n",
    "        return\n",
    "    \n",
    "    index=index.iloc[0].name\n",
    "    # print(index)\n",
    "\n",
    "    df1=df_link.loc[:index]\n",
    "    df2=df_link.loc[index+1:]\n",
    "\n",
    "    max_index=max(df_link.index)\n",
    "    df1.loc[max_index+1]=[row[\"order_id\"], row[\"cross id\"], row[\"cross_time\"], -1, -1, -1, 1, -1]\n",
    "\n",
    "    df_link=df1.append(df2)"
   ]
  },
  {
   "cell_type": "code",
   "execution_count": 530,
   "metadata": {},
   "outputs": [
    {
     "output_type": "stream",
     "name": "stdout",
     "text": [
      "Time Cost = 0.9336776733398438s\n"
     ]
    },
    {
     "output_type": "execute_result",
     "data": {
      "text/plain": [
       "      order_id       link_id  link_time  link_ratio  link_current_status  \\\n",
       "0      5966280        157298     4.5000         1.0                    1   \n",
       "1      5966280        511622     2.8552         1.0                    1   \n",
       "2      5966280        524542     2.2345         1.0                    1   \n",
       "3      5966280         97293     3.6000         1.0                    1   \n",
       "4      5966280        273845     3.2276         1.0                    1   \n",
       "5      5966280        556273     3.7241         1.0                    1   \n",
       "6      5966280         73842     2.4828         1.0                    1   \n",
       "7      5966280        101675     2.4828         1.0                    1   \n",
       "8      5966280        325444     0.7043         1.0                    1   \n",
       "9      5966280        134737     3.6000         1.0                    1   \n",
       "10     5966280        611534    15.9750         1.0                    1   \n",
       "11     5966280         47128    18.0000         1.0                    1   \n",
       "1000   5966280  47128_204460    23.0000        -1.0                   -1   \n",
       "12     5966280         29620     1.9800         1.0                    1   \n",
       "13     5966280        204460    15.3818         1.0                    1   \n",
       "\n",
       "      link_arrival_status  cross_flag  next_2_link_id  \n",
       "0                       0           0          524542  \n",
       "1                       1           0           97293  \n",
       "2                       0           0          273845  \n",
       "3                       1           0          556273  \n",
       "4                       1           0           73842  \n",
       "5                       1           0          101675  \n",
       "6                       1           0          325444  \n",
       "7                       1           0          134737  \n",
       "8                       1           0          611534  \n",
       "9                       1           0           47128  \n",
       "10                      1           0           29620  \n",
       "11                      1           0          204460  \n",
       "1000                   -1           1              -1  \n",
       "12                      1           0          436510  \n",
       "13                      1           0          332956  "
      ],
      "text/html": "<div>\n<style scoped>\n    .dataframe tbody tr th:only-of-type {\n        vertical-align: middle;\n    }\n\n    .dataframe tbody tr th {\n        vertical-align: top;\n    }\n\n    .dataframe thead th {\n        text-align: right;\n    }\n</style>\n<table border=\"1\" class=\"dataframe\">\n  <thead>\n    <tr style=\"text-align: right;\">\n      <th></th>\n      <th>order_id</th>\n      <th>link_id</th>\n      <th>link_time</th>\n      <th>link_ratio</th>\n      <th>link_current_status</th>\n      <th>link_arrival_status</th>\n      <th>cross_flag</th>\n      <th>next_2_link_id</th>\n    </tr>\n  </thead>\n  <tbody>\n    <tr>\n      <th>0</th>\n      <td>5966280</td>\n      <td>157298</td>\n      <td>4.5000</td>\n      <td>1.0</td>\n      <td>1</td>\n      <td>0</td>\n      <td>0</td>\n      <td>524542</td>\n    </tr>\n    <tr>\n      <th>1</th>\n      <td>5966280</td>\n      <td>511622</td>\n      <td>2.8552</td>\n      <td>1.0</td>\n      <td>1</td>\n      <td>1</td>\n      <td>0</td>\n      <td>97293</td>\n    </tr>\n    <tr>\n      <th>2</th>\n      <td>5966280</td>\n      <td>524542</td>\n      <td>2.2345</td>\n      <td>1.0</td>\n      <td>1</td>\n      <td>0</td>\n      <td>0</td>\n      <td>273845</td>\n    </tr>\n    <tr>\n      <th>3</th>\n      <td>5966280</td>\n      <td>97293</td>\n      <td>3.6000</td>\n      <td>1.0</td>\n      <td>1</td>\n      <td>1</td>\n      <td>0</td>\n      <td>556273</td>\n    </tr>\n    <tr>\n      <th>4</th>\n      <td>5966280</td>\n      <td>273845</td>\n      <td>3.2276</td>\n      <td>1.0</td>\n      <td>1</td>\n      <td>1</td>\n      <td>0</td>\n      <td>73842</td>\n    </tr>\n    <tr>\n      <th>5</th>\n      <td>5966280</td>\n      <td>556273</td>\n      <td>3.7241</td>\n      <td>1.0</td>\n      <td>1</td>\n      <td>1</td>\n      <td>0</td>\n      <td>101675</td>\n    </tr>\n    <tr>\n      <th>6</th>\n      <td>5966280</td>\n      <td>73842</td>\n      <td>2.4828</td>\n      <td>1.0</td>\n      <td>1</td>\n      <td>1</td>\n      <td>0</td>\n      <td>325444</td>\n    </tr>\n    <tr>\n      <th>7</th>\n      <td>5966280</td>\n      <td>101675</td>\n      <td>2.4828</td>\n      <td>1.0</td>\n      <td>1</td>\n      <td>1</td>\n      <td>0</td>\n      <td>134737</td>\n    </tr>\n    <tr>\n      <th>8</th>\n      <td>5966280</td>\n      <td>325444</td>\n      <td>0.7043</td>\n      <td>1.0</td>\n      <td>1</td>\n      <td>1</td>\n      <td>0</td>\n      <td>611534</td>\n    </tr>\n    <tr>\n      <th>9</th>\n      <td>5966280</td>\n      <td>134737</td>\n      <td>3.6000</td>\n      <td>1.0</td>\n      <td>1</td>\n      <td>1</td>\n      <td>0</td>\n      <td>47128</td>\n    </tr>\n    <tr>\n      <th>10</th>\n      <td>5966280</td>\n      <td>611534</td>\n      <td>15.9750</td>\n      <td>1.0</td>\n      <td>1</td>\n      <td>1</td>\n      <td>0</td>\n      <td>29620</td>\n    </tr>\n    <tr>\n      <th>11</th>\n      <td>5966280</td>\n      <td>47128</td>\n      <td>18.0000</td>\n      <td>1.0</td>\n      <td>1</td>\n      <td>1</td>\n      <td>0</td>\n      <td>204460</td>\n    </tr>\n    <tr>\n      <th>1000</th>\n      <td>5966280</td>\n      <td>47128_204460</td>\n      <td>23.0000</td>\n      <td>-1.0</td>\n      <td>-1</td>\n      <td>-1</td>\n      <td>1</td>\n      <td>-1</td>\n    </tr>\n    <tr>\n      <th>12</th>\n      <td>5966280</td>\n      <td>29620</td>\n      <td>1.9800</td>\n      <td>1.0</td>\n      <td>1</td>\n      <td>1</td>\n      <td>0</td>\n      <td>436510</td>\n    </tr>\n    <tr>\n      <th>13</th>\n      <td>5966280</td>\n      <td>204460</td>\n      <td>15.3818</td>\n      <td>1.0</td>\n      <td>1</td>\n      <td>1</td>\n      <td>0</td>\n      <td>332956</td>\n    </tr>\n  </tbody>\n</table>\n</div>"
     },
     "metadata": {},
     "execution_count": 530
    }
   ],
   "source": [
    "import time\n",
    "\n",
    "start=time.time()\n",
    "df_cross.apply(insert_cross, axis=1)\n",
    "end=time.time()\n",
    "\n",
    "print(f\"Time Cost = {end-start}s\")\n",
    "\n",
    "df_link.head(15)"
   ]
  },
  {
   "cell_type": "code",
   "execution_count": 531,
   "metadata": {},
   "outputs": [
    {
     "output_type": "execute_result",
     "data": {
      "text/plain": [
       "     order_id link_id  link_time  link_ratio  link_current_status  \\\n",
       "0     5966280  157298     4.5000      1.0000                    1   \n",
       "1     5966280  511622     2.8552      1.0000                    1   \n",
       "2     5966280  524542     2.2345      1.0000                    1   \n",
       "3     5966280   97293     3.6000      1.0000                    1   \n",
       "4     5966280  273845     3.2276      1.0000                    1   \n",
       "..        ...     ...        ...         ...                  ...   \n",
       "995   4144356  254845     2.5297      1.0000                    1   \n",
       "996   4144356  397390     6.4664      0.7254                    1   \n",
       "997   4516865  501423     5.6415      0.3660                    0   \n",
       "998   4516865   74783     9.0000      1.0000                    0   \n",
       "999   4516865   57402     4.2545      1.0000                    0   \n",
       "\n",
       "     link_arrival_status  cross_flag  \n",
       "0                      0           0  \n",
       "1                      1           0  \n",
       "2                      0           0  \n",
       "3                      1           0  \n",
       "4                      1           0  \n",
       "..                   ...         ...  \n",
       "995                    1           0  \n",
       "996                    0           0  \n",
       "997                    0           0  \n",
       "998                    0           0  \n",
       "999                    0           0  \n",
       "\n",
       "[1034 rows x 7 columns]"
      ],
      "text/html": "<div>\n<style scoped>\n    .dataframe tbody tr th:only-of-type {\n        vertical-align: middle;\n    }\n\n    .dataframe tbody tr th {\n        vertical-align: top;\n    }\n\n    .dataframe thead th {\n        text-align: right;\n    }\n</style>\n<table border=\"1\" class=\"dataframe\">\n  <thead>\n    <tr style=\"text-align: right;\">\n      <th></th>\n      <th>order_id</th>\n      <th>link_id</th>\n      <th>link_time</th>\n      <th>link_ratio</th>\n      <th>link_current_status</th>\n      <th>link_arrival_status</th>\n      <th>cross_flag</th>\n    </tr>\n  </thead>\n  <tbody>\n    <tr>\n      <th>0</th>\n      <td>5966280</td>\n      <td>157298</td>\n      <td>4.5000</td>\n      <td>1.0000</td>\n      <td>1</td>\n      <td>0</td>\n      <td>0</td>\n    </tr>\n    <tr>\n      <th>1</th>\n      <td>5966280</td>\n      <td>511622</td>\n      <td>2.8552</td>\n      <td>1.0000</td>\n      <td>1</td>\n      <td>1</td>\n      <td>0</td>\n    </tr>\n    <tr>\n      <th>2</th>\n      <td>5966280</td>\n      <td>524542</td>\n      <td>2.2345</td>\n      <td>1.0000</td>\n      <td>1</td>\n      <td>0</td>\n      <td>0</td>\n    </tr>\n    <tr>\n      <th>3</th>\n      <td>5966280</td>\n      <td>97293</td>\n      <td>3.6000</td>\n      <td>1.0000</td>\n      <td>1</td>\n      <td>1</td>\n      <td>0</td>\n    </tr>\n    <tr>\n      <th>4</th>\n      <td>5966280</td>\n      <td>273845</td>\n      <td>3.2276</td>\n      <td>1.0000</td>\n      <td>1</td>\n      <td>1</td>\n      <td>0</td>\n    </tr>\n    <tr>\n      <th>...</th>\n      <td>...</td>\n      <td>...</td>\n      <td>...</td>\n      <td>...</td>\n      <td>...</td>\n      <td>...</td>\n      <td>...</td>\n    </tr>\n    <tr>\n      <th>995</th>\n      <td>4144356</td>\n      <td>254845</td>\n      <td>2.5297</td>\n      <td>1.0000</td>\n      <td>1</td>\n      <td>1</td>\n      <td>0</td>\n    </tr>\n    <tr>\n      <th>996</th>\n      <td>4144356</td>\n      <td>397390</td>\n      <td>6.4664</td>\n      <td>0.7254</td>\n      <td>1</td>\n      <td>0</td>\n      <td>0</td>\n    </tr>\n    <tr>\n      <th>997</th>\n      <td>4516865</td>\n      <td>501423</td>\n      <td>5.6415</td>\n      <td>0.3660</td>\n      <td>0</td>\n      <td>0</td>\n      <td>0</td>\n    </tr>\n    <tr>\n      <th>998</th>\n      <td>4516865</td>\n      <td>74783</td>\n      <td>9.0000</td>\n      <td>1.0000</td>\n      <td>0</td>\n      <td>0</td>\n      <td>0</td>\n    </tr>\n    <tr>\n      <th>999</th>\n      <td>4516865</td>\n      <td>57402</td>\n      <td>4.2545</td>\n      <td>1.0000</td>\n      <td>0</td>\n      <td>0</td>\n      <td>0</td>\n    </tr>\n  </tbody>\n</table>\n<p>1034 rows × 7 columns</p>\n</div>"
     },
     "metadata": {},
     "execution_count": 531
    }
   ],
   "source": [
    "df_link=df_link.drop(columns=[\"next_2_link_id\"])\n",
    "\n",
    "df_link"
   ]
  }
 ]
}