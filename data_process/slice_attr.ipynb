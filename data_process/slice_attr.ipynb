{
 "cells": [
  {
   "cell_type": "code",
   "execution_count": 3,
   "source": [
    "import pandas as pd\r\n",
    "import numpy as np\r\n",
    "from tqdm import tqdm\r\n",
    "import scipy.stats as st\r\n",
    "\r\n",
    "%pwd"
   ],
   "outputs": [
    {
     "output_type": "execute_result",
     "data": {
      "text/plain": [
       "'/home/cseadmin/undergrad1/dz/GISCUP2021/data_process'"
      ]
     },
     "metadata": {},
     "execution_count": 3
    }
   ],
   "metadata": {}
  },
  {
   "cell_type": "code",
   "execution_count": 4,
   "source": [
    "with open(\"../data/train/train_head/20200801.csv\") as f:\r\n",
    "    line=f.readline()\r\n",
    "\r\n",
    "line.split(\",\")"
   ],
   "outputs": [
    {
     "output_type": "execute_result",
     "data": {
      "text/plain": [
       "['order_id', 'ata', 'distance', 'simple_eta', 'driver_id', 'slice_id\\n']"
      ]
     },
     "metadata": {},
     "execution_count": 4
    }
   ],
   "metadata": {}
  },
  {
   "cell_type": "code",
   "execution_count": 5,
   "source": [
    "%%time\r\n",
    "\r\n",
    "TRAIN_FILES = ['202008'+str(i).zfill(2)+'.csv' for i in range(1,32)]\r\n",
    "PATH = '../data/train/train_head/'\r\n",
    "\r\n",
    "slice_dict = {}\r\n",
    "for i,fn in enumerate(TRAIN_FILES):   \r\n",
    "    with open(PATH+fn, 'r') as f:\r\n",
    "        next(f)\r\n",
    "        for line in tqdm(f.readlines()):\r\n",
    "            line_list = line.split(\",\")\r\n",
    "            slice_id = int(line_list[5].strip())\r\n",
    "            if slice_id in slice_dict.keys():\r\n",
    "                slice_dict[slice_id].append(int(line_list[1])-int(line_list[3]))\r\n",
    "            else:\r\n",
    "                slice_dict[slice_id] = [int(line_list[1])-int(line_list[3])]"
   ],
   "outputs": [
    {
     "output_type": "stream",
     "name": "stderr",
     "text": [
      "100%|██████████| 74328/74328 [00:00<00:00, 764549.49it/s]\n",
      "100%|██████████| 74129/74129 [00:00<00:00, 759598.36it/s]\n",
      "0it [00:00, ?it/s]\n",
      "100%|██████████| 172161/172161 [00:00<00:00, 791328.94it/s]\n",
      "100%|██████████| 315756/315756 [00:00<00:00, 793853.73it/s]\n",
      "100%|██████████| 307051/307051 [00:00<00:00, 792984.82it/s]\n",
      "100%|██████████| 308233/308233 [00:00<00:00, 790814.59it/s]\n",
      "100%|██████████| 323961/323961 [00:00<00:00, 789974.97it/s]\n",
      "100%|██████████| 323131/323131 [00:00<00:00, 783710.44it/s]\n",
      "100%|██████████| 291629/291629 [00:00<00:00, 785286.23it/s]\n",
      "100%|██████████| 290647/290647 [00:00<00:00, 789051.11it/s]\n",
      "100%|██████████| 288994/288994 [00:00<00:00, 788886.40it/s]\n",
      "100%|██████████| 297846/297846 [00:00<00:00, 792208.57it/s]\n",
      "100%|██████████| 320924/320924 [00:00<00:00, 791724.05it/s]\n",
      "100%|██████████| 321635/321635 [00:00<00:00, 789226.41it/s]\n",
      "100%|██████████| 316657/316657 [00:00<00:00, 782947.26it/s]\n",
      "100%|██████████| 284095/284095 [00:00<00:00, 785140.34it/s]\n",
      "100%|██████████| 297428/297428 [00:00<00:00, 794862.59it/s]\n",
      "100%|██████████| 285934/285934 [00:00<00:00, 785442.24it/s]\n",
      "100%|██████████| 305369/305369 [00:00<00:00, 791286.05it/s]\n",
      "100%|██████████| 324105/324105 [00:00<00:00, 791441.93it/s]\n",
      "100%|██████████| 342405/342405 [00:00<00:00, 784787.79it/s]\n",
      "100%|██████████| 342610/342610 [00:00<00:00, 787196.40it/s]\n",
      "100%|██████████| 283924/283924 [00:00<00:00, 789230.49it/s]\n",
      "100%|██████████| 329123/329123 [00:00<00:00, 786771.60it/s]\n",
      "100%|██████████| 309158/309158 [00:00<00:00, 787083.43it/s]\n",
      "100%|██████████| 295089/295089 [00:00<00:00, 788893.71it/s]\n",
      "100%|██████████| 314081/314081 [00:00<00:00, 785787.30it/s]\n",
      "100%|██████████| 318662/318662 [00:00<00:00, 787321.76it/s]\n",
      "100%|██████████| 300330/300330 [00:00<00:00, 794299.82it/s]\n",
      "100%|██████████| 291610/291610 [00:00<00:00, 783497.18it/s]"
     ]
    },
    {
     "output_type": "stream",
     "name": "stdout",
     "text": [
      "CPU times: user 11.8 s, sys: 561 ms, total: 12.4 s\n",
      "Wall time: 12.3 s\n"
     ]
    },
    {
     "output_type": "stream",
     "name": "stderr",
     "text": [
      "\n"
     ]
    }
   ],
   "metadata": {}
  },
  {
   "cell_type": "code",
   "execution_count": 6,
   "source": [
    "%%time\r\n",
    "\r\n",
    "df=pd.DataFrame(columns=[\"std\", \"avg\", \"min\", \"max\", \"count\", \"skew\", \"kurt\"])\r\n",
    "\r\n",
    "for key, value in slice_dict.items():\r\n",
    "    df.loc[key]=[np.std(value), np.mean(value), np.min(value), np.max(value), len(value), st.skew(value), st.kurtosis(value)]"
   ],
   "outputs": [
    {
     "output_type": "stream",
     "name": "stdout",
     "text": [
      "CPU times: user 6.65 s, sys: 35.4 ms, total: 6.69 s\n",
      "Wall time: 6.69 s\n"
     ]
    }
   ],
   "metadata": {}
  },
  {
   "cell_type": "code",
   "execution_count": 7,
   "source": [
    "df.to_csv(\"./slice_attr.csv\")"
   ],
   "outputs": [],
   "metadata": {}
  }
 ],
 "metadata": {
  "orig_nbformat": 4,
  "kernelspec": {
   "name": "dz",
   "display_name": "dz",
   "language": "python"
  },
  "language_info": {
   "name": "python",
   "version": "3.8.2",
   "mimetype": "text/x-python",
   "codemirror_mode": {
    "name": "ipython",
    "version": 3
   },
   "pygments_lexer": "ipython3",
   "nbconvert_exporter": "python",
   "file_extension": ".py"
  }
 },
 "nbformat": 4,
 "nbformat_minor": 2
}