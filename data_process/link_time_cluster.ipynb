{
 "cells": [
  {
   "cell_type": "code",
   "execution_count": 2,
   "source": [
    "from sklearn.cluster import KMeans\r\n",
    "import pandas as pd\r\n",
    "import numpy as np\r\n",
    "import matplotlib.pyplot as plt\r\n",
    "\r\n",
    "%pwd"
   ],
   "outputs": [
    {
     "output_type": "execute_result",
     "data": {
      "text/plain": [
       "'/home/cseadmin/undergrad1/dz/GISCUP2021/data_process'"
      ]
     },
     "metadata": {},
     "execution_count": 2
    }
   ],
   "metadata": {}
  },
  {
   "cell_type": "code",
   "execution_count": 3,
   "source": [
    "link_time_attr=pd.read_csv(\"../data/link_time_attr.csv\")\r\n",
    "link_time_attr.set_index('Unnamed: 0',inplace=True)\r\n",
    "\r\n",
    "link_time_attr"
   ],
   "outputs": [
    {
     "output_type": "execute_result",
     "data": {
      "text/plain": [
       "                 std        avg      min      max  count      skew       kurt\n",
       "Unnamed: 0                                                                   \n",
       "157298      3.142503   5.023350   0.3210  14.4000  137.0  1.776284   2.674586\n",
       "511622      1.761514   3.837049   0.2957  16.5600  141.0  3.177366  18.278032\n",
       "524542      1.242140   2.905499   0.4696  12.9600  154.0  4.121032  27.224024\n",
       "97293       1.929949   4.649475   2.0020  20.8800  161.0  4.476175  30.606515\n",
       "273845      1.726321   4.192694   2.5297  18.7200  160.0  4.522993  30.850102\n",
       "...              ...        ...      ...      ...    ...       ...        ...\n",
       "280667      0.000000  51.000000  51.0000  51.0000    1.0  0.000000  -3.000000\n",
       "280020      0.000000  51.000000  51.0000  51.0000    1.0  0.000000  -3.000000\n",
       "382296      0.000000  11.582600  11.5826  11.5826    1.0  0.000000  -3.000000\n",
       "304418      0.000000   2.769200   2.7692   2.7692    1.0  0.000000  -3.000000\n",
       "337106      0.000000   1.050000   1.0500   1.0500    1.0  0.000000  -3.000000\n",
       "\n",
       "[632407 rows x 7 columns]"
      ],
      "text/html": [
       "<div>\n",
       "<style scoped>\n",
       "    .dataframe tbody tr th:only-of-type {\n",
       "        vertical-align: middle;\n",
       "    }\n",
       "\n",
       "    .dataframe tbody tr th {\n",
       "        vertical-align: top;\n",
       "    }\n",
       "\n",
       "    .dataframe thead th {\n",
       "        text-align: right;\n",
       "    }\n",
       "</style>\n",
       "<table border=\"1\" class=\"dataframe\">\n",
       "  <thead>\n",
       "    <tr style=\"text-align: right;\">\n",
       "      <th></th>\n",
       "      <th>std</th>\n",
       "      <th>avg</th>\n",
       "      <th>min</th>\n",
       "      <th>max</th>\n",
       "      <th>count</th>\n",
       "      <th>skew</th>\n",
       "      <th>kurt</th>\n",
       "    </tr>\n",
       "    <tr>\n",
       "      <th>Unnamed: 0</th>\n",
       "      <th></th>\n",
       "      <th></th>\n",
       "      <th></th>\n",
       "      <th></th>\n",
       "      <th></th>\n",
       "      <th></th>\n",
       "      <th></th>\n",
       "    </tr>\n",
       "  </thead>\n",
       "  <tbody>\n",
       "    <tr>\n",
       "      <th>157298</th>\n",
       "      <td>3.142503</td>\n",
       "      <td>5.023350</td>\n",
       "      <td>0.3210</td>\n",
       "      <td>14.4000</td>\n",
       "      <td>137.0</td>\n",
       "      <td>1.776284</td>\n",
       "      <td>2.674586</td>\n",
       "    </tr>\n",
       "    <tr>\n",
       "      <th>511622</th>\n",
       "      <td>1.761514</td>\n",
       "      <td>3.837049</td>\n",
       "      <td>0.2957</td>\n",
       "      <td>16.5600</td>\n",
       "      <td>141.0</td>\n",
       "      <td>3.177366</td>\n",
       "      <td>18.278032</td>\n",
       "    </tr>\n",
       "    <tr>\n",
       "      <th>524542</th>\n",
       "      <td>1.242140</td>\n",
       "      <td>2.905499</td>\n",
       "      <td>0.4696</td>\n",
       "      <td>12.9600</td>\n",
       "      <td>154.0</td>\n",
       "      <td>4.121032</td>\n",
       "      <td>27.224024</td>\n",
       "    </tr>\n",
       "    <tr>\n",
       "      <th>97293</th>\n",
       "      <td>1.929949</td>\n",
       "      <td>4.649475</td>\n",
       "      <td>2.0020</td>\n",
       "      <td>20.8800</td>\n",
       "      <td>161.0</td>\n",
       "      <td>4.476175</td>\n",
       "      <td>30.606515</td>\n",
       "    </tr>\n",
       "    <tr>\n",
       "      <th>273845</th>\n",
       "      <td>1.726321</td>\n",
       "      <td>4.192694</td>\n",
       "      <td>2.5297</td>\n",
       "      <td>18.7200</td>\n",
       "      <td>160.0</td>\n",
       "      <td>4.522993</td>\n",
       "      <td>30.850102</td>\n",
       "    </tr>\n",
       "    <tr>\n",
       "      <th>...</th>\n",
       "      <td>...</td>\n",
       "      <td>...</td>\n",
       "      <td>...</td>\n",
       "      <td>...</td>\n",
       "      <td>...</td>\n",
       "      <td>...</td>\n",
       "      <td>...</td>\n",
       "    </tr>\n",
       "    <tr>\n",
       "      <th>280667</th>\n",
       "      <td>0.000000</td>\n",
       "      <td>51.000000</td>\n",
       "      <td>51.0000</td>\n",
       "      <td>51.0000</td>\n",
       "      <td>1.0</td>\n",
       "      <td>0.000000</td>\n",
       "      <td>-3.000000</td>\n",
       "    </tr>\n",
       "    <tr>\n",
       "      <th>280020</th>\n",
       "      <td>0.000000</td>\n",
       "      <td>51.000000</td>\n",
       "      <td>51.0000</td>\n",
       "      <td>51.0000</td>\n",
       "      <td>1.0</td>\n",
       "      <td>0.000000</td>\n",
       "      <td>-3.000000</td>\n",
       "    </tr>\n",
       "    <tr>\n",
       "      <th>382296</th>\n",
       "      <td>0.000000</td>\n",
       "      <td>11.582600</td>\n",
       "      <td>11.5826</td>\n",
       "      <td>11.5826</td>\n",
       "      <td>1.0</td>\n",
       "      <td>0.000000</td>\n",
       "      <td>-3.000000</td>\n",
       "    </tr>\n",
       "    <tr>\n",
       "      <th>304418</th>\n",
       "      <td>0.000000</td>\n",
       "      <td>2.769200</td>\n",
       "      <td>2.7692</td>\n",
       "      <td>2.7692</td>\n",
       "      <td>1.0</td>\n",
       "      <td>0.000000</td>\n",
       "      <td>-3.000000</td>\n",
       "    </tr>\n",
       "    <tr>\n",
       "      <th>337106</th>\n",
       "      <td>0.000000</td>\n",
       "      <td>1.050000</td>\n",
       "      <td>1.0500</td>\n",
       "      <td>1.0500</td>\n",
       "      <td>1.0</td>\n",
       "      <td>0.000000</td>\n",
       "      <td>-3.000000</td>\n",
       "    </tr>\n",
       "  </tbody>\n",
       "</table>\n",
       "<p>632407 rows × 7 columns</p>\n",
       "</div>"
      ]
     },
     "metadata": {},
     "execution_count": 3
    }
   ],
   "metadata": {}
  },
  {
   "cell_type": "code",
   "execution_count": 4,
   "source": [
    "kmeans_input=link_time_attr[\"min\"].values.reshape(-1, 1)"
   ],
   "outputs": [],
   "metadata": {}
  },
  {
   "cell_type": "code",
   "execution_count": 6,
   "source": [
    "import warnings\r\n",
    "warnings.simplefilter(action='ignore', category=FutureWarning)\r\n",
    "\r\n",
    "SSE=[]\r\n",
    "for k in range(1, 15):\r\n",
    "    estimator=KMeans(n_clusters=k)\r\n",
    "    estimator.fit(kmeans_input)\r\n",
    "    SSE.append(estimator.inertia_)\r\n",
    "\r\n",
    "X=range(1, 15)\r\n",
    "plt.xlabel('k')\r\n",
    "plt.ylabel('SSE')\r\n",
    "plt.plot(X, SSE, 'o-')\r\n",
    "\r\n",
    "plt.show()"
   ],
   "outputs": [
    {
     "output_type": "display_data",
     "data": {
      "text/plain": [
       "<Figure size 432x288 with 1 Axes>"
      ],
      "image/png": "[encoded data removed]"
     },
     "metadata": {
      "needs_background": "light"
     }
    }
   ],
   "metadata": {}
  },
  {
   "cell_type": "code",
   "execution_count": 7,
   "source": [
    "SSE"
   ],
   "outputs": [
    {
     "output_type": "execute_result",
     "data": {
      "text/plain": [
       "[55282110.58900844,\n",
       " 25956185.50489932,\n",
       " 15702926.05677186,\n",
       " 10604038.750880044,\n",
       " 7676749.624154481,\n",
       " 5891610.551349427,\n",
       " 4674884.2188554965,\n",
       " 3590403.9809490666,\n",
       " 2843030.9070474324,\n",
       " 2315912.5318596885,\n",
       " 1909431.563673093,\n",
       " 1615492.847774524,\n",
       " 1385657.4569715222,\n",
       " 1202276.1350871671]"
      ]
     },
     "metadata": {},
     "execution_count": 7
    }
   ],
   "metadata": {}
  },
  {
   "cell_type": "code",
   "execution_count": 5,
   "source": [
    "kmeans_model=KMeans(n_clusters=9)\r\n",
    "kmeans_model.fit(kmeans_input)\r\n",
    "link_time_attr[\"label\"]=kmeans_model.labels_\r\n",
    "\r\n",
    "link_time_attr"
   ],
   "outputs": [],
   "metadata": {}
  },
  {
   "cell_type": "code",
   "execution_count": 9,
   "source": [
    "np.unique(link_time_attr[\"label\"])"
   ],
   "outputs": [
    {
     "output_type": "execute_result",
     "data": {
      "text/plain": [
       "array([0, 1, 2, 3], dtype=int32)"
      ]
     },
     "metadata": {},
     "execution_count": 9
    }
   ],
   "metadata": {}
  },
  {
   "cell_type": "code",
   "execution_count": 10,
   "source": [
    "link_time_attr.to_csv(\"../data/link_time_attr.csv\")"
   ],
   "outputs": [],
   "metadata": {}
  }
 ],
 "metadata": {
  "orig_nbformat": 4,
  "kernelspec": {
   "name": "dz",
   "display_name": "dz",
   "language": "python"
  },
  "language_info": {
   "name": "python",
   "version": "3.8.2",
   "mimetype": "text/x-python",
   "codemirror_mode": {
    "name": "ipython",
    "version": 3
   },
   "pygments_lexer": "ipython3",
   "nbconvert_exporter": "python",
   "file_extension": ".py"
  }
 },
 "nbformat": 4,
 "nbformat_minor": 2
}