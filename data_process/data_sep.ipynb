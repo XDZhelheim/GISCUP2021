{
 "cells": [
  {
   "cell_type": "code",
   "execution_count": 2,
   "metadata": {},
   "outputs": [],
   "source": [
    "import pandas as pd\n",
    "from tqdm import tqdm\n",
    "import csv\n",
    "import os"
   ]
  },
  {
   "cell_type": "code",
   "execution_count": 3,
   "metadata": {},
   "outputs": [],
   "source": [
    "PATH = '/media/fan/hdd/giscup/giscup_2021/train/'\n",
    "filenames = os.listdir(PATH)"
   ]
  },
  {
   "cell_type": "code",
   "execution_count": 6,
   "metadata": {},
   "outputs": [
    {
     "name": "stderr",
     "output_type": "stream",
     "text": [
      "284095it [00:50, 5617.09it/s] \n",
      "308233it [00:52, 5830.55it/s] \n",
      "74129it [00:04, 15988.09it/s]\n",
      "74328it [00:08, 8516.43it/s] \n",
      "285934it [00:48, 5901.41it/s] \n",
      "323131it [00:55, 5846.71it/s] \n",
      "342610it [00:56, 6036.56it/s] \n",
      "291629it [00:47, 6184.09it/s] \n",
      "297846it [00:50, 5859.01it/s] \n",
      "295089it [00:48, 6129.81it/s] \n",
      "316657it [00:57, 5499.80it/s] \n",
      "309158it [00:50, 6163.11it/s] \n",
      "288994it [00:46, 6215.13it/s] \n",
      "307051it [00:51, 5929.96it/s] \n",
      "290647it [00:51, 5646.02it/s] \n",
      "305369it [00:48, 6265.96it/s] \n",
      "172161it [00:24, 7121.77it/s] \n",
      "300330it [00:50, 5893.99it/s] \n",
      "318662it [00:50, 6352.67it/s] \n",
      "291610it [00:54, 5356.98it/s] \n",
      "314081it [00:48, 6526.16it/s] \n",
      "342405it [01:01, 5603.15it/s] \n",
      "329123it [00:52, 6261.26it/s] \n",
      "324105it [00:58, 5567.62it/s] \n",
      "321635it [00:51, 6272.20it/s] \n",
      "283924it [00:44, 6391.80it/s] \n",
      "315756it [00:52, 6061.18it/s] \n",
      "0it [00:00, ?it/s]\n",
      "320924it [00:59, 5393.94it/s] \n",
      "323961it [00:55, 5880.11it/s] \n",
      "297428it [00:44, 6736.89it/s] \n"
     ]
    }
   ],
   "source": [
    "for fn in filenames:\n",
    "    with open(PATH+fn, 'r') as f:\n",
    "        head_part = [['order_id','ata','distance','simple_eta','driver_id','slice_id']]\n",
    "        link_part = [['order_id','link_id','link_time','link_ratio','link_current_status','link_arrival_status']]\n",
    "        cross_part = [['order_id','cross id','cross_time']]\n",
    "        for k, parts in tqdm(enumerate(f.readlines())):\n",
    "            line = parts.split(';;')\n",
    "            head = line[0].split(' ')\n",
    "            link = line[1].split(' ')\n",
    "            order_id = head[0]\n",
    "            head_part.append(head)\n",
    "            for segment in link:\n",
    "                tmp = [order_id]\n",
    "                tmp.append(segment.split(':')[0])\n",
    "                tmp.extend(segment.split(':')[1].split(','))\n",
    "                link_part.append(tmp)\n",
    "            if(len(line)>2):\n",
    "                cross = line[2].split(' ')\n",
    "                for light in cross:\n",
    "                    cross_part.append([order_id]+light.split(':'))\n",
    "        with open( '/media/fan/hdd/giscup/giscup_2021/train_head/'+fn[:8]+'.csv','w') as result_file:\n",
    "            wr = csv.writer(result_file)\n",
    "            wr.writerows(head_part)\n",
    "        with open( '/media/fan/hdd/giscup/giscup_2021/train_link/'+fn[:8]+'.csv','w') as result_file:\n",
    "            wr = csv.writer(result_file)\n",
    "            wr.writerows(link_part)\n",
    "        with open( '/media/fan/hdd/giscup/giscup_2021/train_cross/'+fn[:8]+'.csv','w') as result_file:\n",
    "            wr = csv.writer(result_file)\n",
    "            wr.writerows(cross_part)"
   ]
  },
  {
   "cell_type": "code",
   "execution_count": 7,
   "metadata": {},
   "outputs": [
    {
     "name": "stderr",
     "output_type": "stream",
     "text": [
      "288076it [00:46, 6149.11it/s] \n"
     ]
    }
   ],
   "source": [
    "with open('/media/fan/hdd/giscup/giscup_2021/20200901_test.txt', 'r') as f:\n",
    "    head_part = [['order_id','ata','distance','simple_eta','driver_id','slice_id']]\n",
    "    link_part = [['order_id','link_id','link_time','link_ratio','link_current_status','link_arrival_status']]\n",
    "    cross_part = [['order_id','cross id','cross_time']]\n",
    "    for k, parts in tqdm(enumerate(f.readlines())):\n",
    "        line = parts.split(';;')\n",
    "        head = line[0].split(' ')\n",
    "        link = line[1].split(' ')\n",
    "        order_id = head[0]\n",
    "        head_part.append(head)\n",
    "        for segment in link:\n",
    "            tmp = [order_id]\n",
    "            tmp.append(segment.split(':')[0])\n",
    "            tmp.extend(segment.split(':')[1].split(','))\n",
    "            link_part.append(tmp)\n",
    "        if(len(line)>2):\n",
    "            cross = line[2].split(' ')\n",
    "            for light in cross:\n",
    "                cross_part.append([order_id]+light.split(':'))\n",
    "    with open( '/media/fan/hdd/giscup/giscup_2021/test_head.csv','w') as result_file:\n",
    "        wr = csv.writer(result_file)\n",
    "        wr.writerows(head_part)\n",
    "    with open( '/media/fan/hdd/giscup/giscup_2021/test_link.csv','w') as result_file:\n",
    "        wr = csv.writer(result_file)\n",
    "        wr.writerows(link_part)\n",
    "    with open( '/media/fan/hdd/giscup/giscup_2021/test_cross.csv','w') as result_file:\n",
    "        wr = csv.writer(result_file)\n",
    "        wr.writerows(cross_part)"
   ]
  },
  {
   "cell_type": "code",
   "execution_count": null,
   "metadata": {},
   "outputs": [],
   "source": []
  }
 ],
 "metadata": {
  "kernelspec": {
   "display_name": "DataAnalytics",
   "language": "python",
   "name": "da"
  },
  "language_info": {
   "codemirror_mode": {
    "name": "ipython",
    "version": 3
   },
   "file_extension": ".py",
   "mimetype": "text/x-python",
   "name": "python",
   "nbconvert_exporter": "python",
   "pygments_lexer": "ipython3",
   "version": "3.8.2"
  }
 },
 "nbformat": 4,
 "nbformat_minor": 4
}
