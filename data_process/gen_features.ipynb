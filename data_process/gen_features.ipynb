{
 "cells": [
  {
   "cell_type": "code",
   "execution_count": 7,
   "metadata": {},
   "outputs": [],
   "source": [
    "import os, random, csv, datetime, json\n",
    "import pandas as pd\n",
    "import numpy as np\n",
    "import argparse\n",
    "import time\n",
    "from tqdm import tqdm"
   ]
  },
  {
   "cell_type": "code",
   "execution_count": 8,
   "metadata": {},
   "outputs": [],
   "source": [
    "def gen_feats(task,head,link,cross,nl):\n",
    "########################\n",
    "###head features\n",
    "########################\n",
    "    head['speed'] = head['distance']/head['simple_eta']\n",
    "    head['speed_avg'] = head['slice_id'].map(head.groupby('slice_id')['speed'].mean())\n",
    "    head['speed_std'] = head['slice_id'].map(head.groupby('slice_id')['speed'].std())\n",
    "    head['speed_min'] = head['slice_id'].map(head.groupby('slice_id')['speed'].min())\n",
    "    head['speed_max'] = head['slice_id'].map(head.groupby('slice_id')['speed'].max())\n",
    "    head['volume'] = head['slice_id'].map(head.groupby('slice_id').size())\n",
    "    head['old_driver'] = head['driver_id'].map(head.groupby('driver_id').size())\n",
    "    \n",
    "    head.set_index('order_id',inplace=True)\n",
    "########################\n",
    "###link features\n",
    "########################\n",
    "    link = link[link['link_time']>0]\n",
    "    link['link_eta'] = link['link_time']*link['link_ratio']    \n",
    "    link['next_link'] = link['link_id'].map(nl)\n",
    "    link['slice_id'] = link['order_id'].map(head['slice_id'])\n",
    "    \n",
    "    gl = link.groupby('order_id')\n",
    "    head['link_no'] = head.index.map(gl.size())\n",
    "    head['link_time_sum'] = head.index.map(gl['link_eta'].sum())\n",
    "    head['link_time_avg'] = head.index.map(gl['link_time'].mean())\n",
    "    head['link_time_std'] = head.index.map(gl['link_time'].std())\n",
    "    head['link_time_max'] = head.index.map(gl['link_time'].max())\n",
    "    head['link_time_min'] = head.index.map(gl['link_time'].min())\n",
    "    \n",
    "#     gl = link.groupby(['order_id','link_current_status'])['link_time']\n",
    "#     head = head.join(gl.size().unstack(level=-1,fill_value=0).add_prefix('link_no_'))\n",
    "#     head = head.join(gl.sum().unstack(level=-1,fill_value=0).add_prefix('link_time_sum_'))\n",
    "#     head = head.join(gl.mean().unstack(level=-1,fill_value=0).add_prefix('link_time_avg_'))\n",
    "#     head = head.join(gl.std().unstack(level=-1,fill_value=0).add_prefix('link_time_std_'))\n",
    "#     head = head.join(gl.max().unstack(level=-1,fill_value=0).add_prefix('link_time_max_'))\n",
    "#     head = head.join(gl.min().unstack(level=-1,fill_value=0).add_prefix('link_time_min_'))\n",
    "\n",
    "    gl = link.groupby(['order_id','next_link'])['link_time']\n",
    "    head = head.join(gl.size().unstack(level=-1,fill_value=0).add_prefix('next_no_'))\n",
    "    head = head.join(gl.sum().unstack(level=-1,fill_value=0).add_prefix('next_time_sum_'))\n",
    "    head = head.join(gl.mean().unstack(level=-1,fill_value=0).add_prefix('next_time_avg_'))\n",
    "    head = head.join(gl.std().unstack(level=-1,fill_value=0).add_prefix('next_time_std_'))\n",
    "    head = head.join(gl.max().unstack(level=-1,fill_value=0).add_prefix('next_time_max_'))\n",
    "    head = head.join(gl.min().unstack(level=-1,fill_value=0).add_prefix('next_time_min_'))\n",
    "    \n",
    "#     arrival_status = gl['link_arrival_status'].value_counts().unstack(level=-1).fillna(0)\n",
    "#     head['arrival_0'] = head.index.map(arrival_status[0])\n",
    "#     head['arrival_1'] = head.index.map(arrival_status[1])\n",
    "#     head['arrival_2'] = head.index.map(arrival_status[2])\n",
    "#     head['arrival_3'] = head.index.map(arrival_status[3])\n",
    "#     head['arrival_4'] = head.index.map(arrival_status[4])\n",
    "\n",
    "########################\n",
    "###cross features\n",
    "########################\n",
    "    gc = cross.groupby('order_id') \n",
    "    head['cross_no'] = head.index.map(gc.size())\n",
    "    head['cross_sum'] = head.index.map(gc['cross_time'].sum())\n",
    "    head['cross_avg'] = head.index.map(gc['cross_time'].mean())\n",
    "    head['cross_std'] = head.index.map(gc['cross_time'].std())\n",
    "    head['cross_max'] = head.index.map(gc['cross_time'].max())\n",
    "    head['cross_min'] = head.index.map(gc['cross_time'].min())\n",
    "#     head['cross_ratio'] = head['cross_sum']/head['simple_eta']\n",
    "\n",
    "    head = head.fillna(0).reset_index().set_index('slice_id')\n",
    "    gl = link.groupby(['slice_id','link_current_status'])\n",
    "    head = head.join(gl.size().unstack(level=-1,fill_value=0).add_prefix('link_status_no_'))\n",
    "    head = head.fillna(0).reset_index()\n",
    "    if(task=='train'):\n",
    "        head['date'] = f[:8]\n",
    "    return head"
   ]
  },
  {
   "cell_type": "code",
   "execution_count": 9,
   "metadata": {},
   "outputs": [],
   "source": [
    "network = pd.read_table('/media/fan/hdd/giscup/giscup_2021/nextlinks.txt',sep=' ',names=['link_id','next_link'])\n",
    "network['next_link_no'] = network['next_link'].apply(lambda z: 4 if len(list(z.split(',')))>4 else len(list(z.split(','))))\n",
    "nl = network.set_index('link_id')['next_link_no'].astype('int')"
   ]
  },
  {
   "cell_type": "code",
   "execution_count": 10,
   "metadata": {},
   "outputs": [
    {
     "name": "stderr",
     "output_type": "stream",
     "text": [
      "0it [00:00, ?it/s]<ipython-input-8-5018e15a5744>:18: SettingWithCopyWarning: \n",
      "A value is trying to be set on a copy of a slice from a DataFrame.\n",
      "Try using .loc[row_indexer,col_indexer] = value instead\n",
      "\n",
      "See the caveats in the documentation: https://pandas.pydata.org/pandas-docs/stable/user_guide/indexing.html#returning-a-view-versus-a-copy\n",
      "  link['link_eta'] = link['link_time']*link['link_ratio']\n",
      "<ipython-input-8-5018e15a5744>:19: SettingWithCopyWarning: \n",
      "A value is trying to be set on a copy of a slice from a DataFrame.\n",
      "Try using .loc[row_indexer,col_indexer] = value instead\n",
      "\n",
      "See the caveats in the documentation: https://pandas.pydata.org/pandas-docs/stable/user_guide/indexing.html#returning-a-view-versus-a-copy\n",
      "  link['next_link'] = link['link_id'].map(nl)\n",
      "<ipython-input-8-5018e15a5744>:20: SettingWithCopyWarning: \n",
      "A value is trying to be set on a copy of a slice from a DataFrame.\n",
      "Try using .loc[row_indexer,col_indexer] = value instead\n",
      "\n",
      "See the caveats in the documentation: https://pandas.pydata.org/pandas-docs/stable/user_guide/indexing.html#returning-a-view-versus-a-copy\n",
      "  link['slice_id'] = link['order_id'].map(head['slice_id'])\n",
      "31it [18:42, 36.20s/it]\n"
     ]
    }
   ],
   "source": [
    "TRAIN_FILES = ['202008'+str(i).zfill(2)+'.csv' for i in range(1,32)]\n",
    "for i,f in tqdm(enumerate(TRAIN_FILES)):    \n",
    "#     print(f)\n",
    "    head = pd.read_csv('/media/fan/hdd/giscup/giscup_2021/train_head/'+f)\n",
    "    link = pd.read_csv('/media/fan/hdd/giscup/giscup_2021/train_link/'+f)\n",
    "    cross = pd.read_csv('/media/fan/hdd/giscup/giscup_2021/train_cross/'+f)\n",
    "    if(head.shape[0]==0):\n",
    "        continue\n",
    "    head = gen_feats('train',head,link,cross,nl)\n",
    "    if(i==0):\n",
    "        head.to_csv('/media/fan/hdd/giscup/train.csv',index=False)\n",
    "    else:\n",
    "        head.to_csv('/media/fan/hdd/giscup/train.csv',mode='a',header=False,index=False)\n",
    "#     sample = sample.append(head,ignore_index=True)\n",
    "# sample = reduce_mem_usage(sample)\n",
    "# sample.to_csv('/media/fan/hdd/giscup/train.csv',index=False)"
   ]
  },
  {
   "cell_type": "code",
   "execution_count": 11,
   "metadata": {},
   "outputs": [
    {
     "name": "stderr",
     "output_type": "stream",
     "text": [
      "<ipython-input-8-5018e15a5744>:18: SettingWithCopyWarning: \n",
      "A value is trying to be set on a copy of a slice from a DataFrame.\n",
      "Try using .loc[row_indexer,col_indexer] = value instead\n",
      "\n",
      "See the caveats in the documentation: https://pandas.pydata.org/pandas-docs/stable/user_guide/indexing.html#returning-a-view-versus-a-copy\n",
      "  link['link_eta'] = link['link_time']*link['link_ratio']\n",
      "<ipython-input-8-5018e15a5744>:19: SettingWithCopyWarning: \n",
      "A value is trying to be set on a copy of a slice from a DataFrame.\n",
      "Try using .loc[row_indexer,col_indexer] = value instead\n",
      "\n",
      "See the caveats in the documentation: https://pandas.pydata.org/pandas-docs/stable/user_guide/indexing.html#returning-a-view-versus-a-copy\n",
      "  link['next_link'] = link['link_id'].map(nl)\n",
      "<ipython-input-8-5018e15a5744>:20: SettingWithCopyWarning: \n",
      "A value is trying to be set on a copy of a slice from a DataFrame.\n",
      "Try using .loc[row_indexer,col_indexer] = value instead\n",
      "\n",
      "See the caveats in the documentation: https://pandas.pydata.org/pandas-docs/stable/user_guide/indexing.html#returning-a-view-versus-a-copy\n",
      "  link['slice_id'] = link['order_id'].map(head['slice_id'])\n"
     ]
    }
   ],
   "source": [
    "head = pd.read_csv('/media/fan/hdd/giscup/giscup_2021/test_head.csv')\n",
    "link = pd.read_csv('/media/fan/hdd/giscup/giscup_2021/test_link.csv')\n",
    "cross = pd.read_csv('/media/fan/hdd/giscup/giscup_2021/test_cross.csv')\n",
    "\n",
    "head = gen_feats('test',head,link,cross,nl)\n",
    "head['date'] = '20200901'\n",
    "head.to_csv('/media/fan/hdd/giscup/test.csv',index=False)"
   ]
  },
  {
   "cell_type": "code",
   "execution_count": null,
   "metadata": {},
   "outputs": [],
   "source": []
  }
 ],
 "metadata": {
  "kernelspec": {
   "display_name": "DataAnalytics",
   "language": "python",
   "name": "da"
  },
  "language_info": {
   "codemirror_mode": {
    "name": "ipython",
    "version": 3
   },
   "file_extension": ".py",
   "mimetype": "text/x-python",
   "name": "python",
   "nbconvert_exporter": "python",
   "pygments_lexer": "ipython3",
   "version": "3.8.2"
  }
 },
 "nbformat": 4,
 "nbformat_minor": 4
}
