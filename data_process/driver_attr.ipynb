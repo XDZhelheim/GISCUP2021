{
 "cells": [
  {
   "cell_type": "code",
   "execution_count": 2,
   "metadata": {},
   "outputs": [],
   "source": [
    "import os, random, csv, datetime, json\n",
    "import pandas as pd\n",
    "import numpy as np\n",
    "import argparse\n",
    "import time\n",
    "from tqdm import tqdm"
   ]
  },
  {
   "cell_type": "code",
   "execution_count": 16,
   "metadata": {},
   "outputs": [
    {
     "name": "stderr",
     "output_type": "stream",
     "text": [
      "100%|██████████| 74328/74328 [00:00<00:00, 114498.54it/s]\n",
      "100%|██████████| 74129/74129 [00:00<00:00, 538553.91it/s]\n",
      "0it [00:00, ?it/s]\n",
      "100%|██████████| 172161/172161 [00:00<00:00, 537413.44it/s]\n",
      "100%|██████████| 315756/315756 [00:00<00:00, 547078.84it/s]\n",
      "100%|██████████| 307051/307051 [00:00<00:00, 549724.66it/s]\n",
      "100%|██████████| 308233/308233 [00:00<00:00, 554968.70it/s]\n",
      "100%|██████████| 323961/323961 [00:00<00:00, 548120.58it/s]\n",
      "100%|██████████| 323131/323131 [00:00<00:00, 549929.56it/s]\n",
      "100%|██████████| 291629/291629 [00:00<00:00, 542934.39it/s]\n",
      "100%|██████████| 290647/290647 [00:00<00:00, 543572.73it/s]\n",
      "100%|██████████| 288994/288994 [00:00<00:00, 539325.75it/s]\n",
      "100%|██████████| 297846/297846 [00:00<00:00, 536432.64it/s]\n",
      "100%|██████████| 320924/320924 [00:00<00:00, 542186.07it/s]\n",
      "100%|██████████| 321635/321635 [00:00<00:00, 519144.33it/s]\n",
      "100%|██████████| 316657/316657 [00:00<00:00, 542925.63it/s]\n",
      "100%|██████████| 284095/284095 [00:00<00:00, 544443.40it/s]\n",
      "100%|██████████| 297428/297428 [00:00<00:00, 544690.21it/s]\n",
      "100%|██████████| 285934/285934 [00:00<00:00, 546038.38it/s]\n",
      "100%|██████████| 305369/305369 [00:00<00:00, 544936.43it/s]\n",
      "100%|██████████| 324105/324105 [00:00<00:00, 540382.30it/s]\n",
      "100%|██████████| 342405/342405 [00:00<00:00, 544459.05it/s]\n",
      "100%|██████████| 342610/342610 [00:00<00:00, 539564.79it/s]\n",
      "100%|██████████| 283924/283924 [00:00<00:00, 544467.70it/s]\n",
      "100%|██████████| 329123/329123 [00:00<00:00, 539230.07it/s]\n",
      "100%|██████████| 309158/309158 [00:00<00:00, 550197.47it/s]\n",
      "100%|██████████| 295089/295089 [00:00<00:00, 548697.44it/s]\n",
      "100%|██████████| 314081/314081 [00:00<00:00, 546862.00it/s]\n",
      "100%|██████████| 318662/318662 [00:00<00:00, 546325.80it/s]\n",
      "100%|██████████| 300330/300330 [00:00<00:00, 543495.52it/s]\n",
      "100%|██████████| 291610/291610 [00:00<00:00, 544410.28it/s]\n"
     ]
    }
   ],
   "source": [
    "TRAIN_FILES = ['202008'+str(i).zfill(2)+'.csv' for i in range(1,32)]\n",
    "PATH = '/media/fan/hdd/giscup/giscup_2021/train_head/'\n",
    "drivers = {}\n",
    "for i,fn in enumerate(TRAIN_FILES):   \n",
    "    with open(PATH+fn, 'r') as f:\n",
    "        next(f)\n",
    "        for line in tqdm(f.readlines()):\n",
    "            did = line.split(',')[4]\n",
    "            if(did in drivers.keys()):\n",
    "                drivers[did].append(int(line.split(',')[1])-int(line.split(',')[3]))\n",
    "            else:\n",
    "                drivers[did] = [int(line.split(',')[1])-int(line.split(',')[3])]"
   ]
  },
  {
   "cell_type": "code",
   "execution_count": 17,
   "metadata": {},
   "outputs": [
    {
     "data": {
      "text/plain": [
       "80491"
      ]
     },
     "execution_count": 17,
     "metadata": {},
     "output_type": "execute_result"
    }
   ],
   "source": [
    "len(drivers)"
   ]
  },
  {
   "cell_type": "code",
   "execution_count": 31,
   "metadata": {},
   "outputs": [],
   "source": [
    "std = {}\n",
    "avg = {}\n",
    "least = {}\n",
    "most = {}\n",
    "cnt = {}\n",
    "for key,values in drivers.items():\n",
    "    std[key] = np.std(values)\n",
    "    avg[key] = np.mean(values)\n",
    "    least[key] = np.min(values)\n",
    "    most[key] = np.max(values)\n",
    "    cnt[key] = len(values)"
   ]
  },
  {
   "cell_type": "code",
   "execution_count": 32,
   "metadata": {},
   "outputs": [],
   "source": [
    "a = pd.Series(std,name='std')\n",
    "b = pd.Series(avg,name='avg')\n",
    "c = pd.Series(least,name='min')\n",
    "d = pd.Series(most,name='max')\n",
    "e = pd.Series(cnt,name='count')"
   ]
  },
  {
   "cell_type": "code",
   "execution_count": 33,
   "metadata": {},
   "outputs": [],
   "source": [
    "driver_attr = pd.concat([a,b,c,d,e],axis=1)"
   ]
  },
  {
   "cell_type": "code",
   "execution_count": 34,
   "metadata": {},
   "outputs": [],
   "source": [
    "driver_attr.to_csv('/media/fan/hdd/giscup/giscup_2021/driver_attr.csv')"
   ]
  },
  {
   "cell_type": "code",
   "execution_count": 36,
   "metadata": {},
   "outputs": [
    {
     "data": {
      "text/html": [
       "<div>\n",
       "<style scoped>\n",
       "    .dataframe tbody tr th:only-of-type {\n",
       "        vertical-align: middle;\n",
       "    }\n",
       "\n",
       "    .dataframe tbody tr th {\n",
       "        vertical-align: top;\n",
       "    }\n",
       "\n",
       "    .dataframe thead th {\n",
       "        text-align: right;\n",
       "    }\n",
       "</style>\n",
       "<table border=\"1\" class=\"dataframe\">\n",
       "  <thead>\n",
       "    <tr style=\"text-align: right;\">\n",
       "      <th></th>\n",
       "      <th>std</th>\n",
       "      <th>avg</th>\n",
       "      <th>min</th>\n",
       "      <th>max</th>\n",
       "      <th>count</th>\n",
       "    </tr>\n",
       "  </thead>\n",
       "  <tbody>\n",
       "    <tr>\n",
       "      <th>count</th>\n",
       "      <td>80491.000000</td>\n",
       "      <td>80491.000000</td>\n",
       "      <td>80491.000000</td>\n",
       "      <td>80491.000000</td>\n",
       "      <td>80491.000000</td>\n",
       "    </tr>\n",
       "    <tr>\n",
       "      <th>mean</th>\n",
       "      <td>143.880931</td>\n",
       "      <td>97.081723</td>\n",
       "      <td>-204.926911</td>\n",
       "      <td>704.308407</td>\n",
       "      <td>107.477917</td>\n",
       "    </tr>\n",
       "    <tr>\n",
       "      <th>std</th>\n",
       "      <td>78.158316</td>\n",
       "      <td>123.759868</td>\n",
       "      <td>235.831741</td>\n",
       "      <td>489.771975</td>\n",
       "      <td>97.391734</td>\n",
       "    </tr>\n",
       "    <tr>\n",
       "      <th>min</th>\n",
       "      <td>0.000000</td>\n",
       "      <td>-963.000000</td>\n",
       "      <td>-3673.000000</td>\n",
       "      <td>-963.000000</td>\n",
       "      <td>1.000000</td>\n",
       "    </tr>\n",
       "    <tr>\n",
       "      <th>25%</th>\n",
       "      <td>120.344372</td>\n",
       "      <td>43.787885</td>\n",
       "      <td>-323.000000</td>\n",
       "      <td>368.000000</td>\n",
       "      <td>8.000000</td>\n",
       "    </tr>\n",
       "    <tr>\n",
       "      <th>50%</th>\n",
       "      <td>154.660022</td>\n",
       "      <td>85.727273</td>\n",
       "      <td>-218.000000</td>\n",
       "      <td>674.000000</td>\n",
       "      <td>93.000000</td>\n",
       "    </tr>\n",
       "    <tr>\n",
       "      <th>75%</th>\n",
       "      <td>181.334604</td>\n",
       "      <td>129.000000</td>\n",
       "      <td>-100.000000</td>\n",
       "      <td>960.000000</td>\n",
       "      <td>179.000000</td>\n",
       "    </tr>\n",
       "    <tr>\n",
       "      <th>max</th>\n",
       "      <td>1499.428308</td>\n",
       "      <td>4665.000000</td>\n",
       "      <td>4665.000000</td>\n",
       "      <td>8935.000000</td>\n",
       "      <td>606.000000</td>\n",
       "    </tr>\n",
       "  </tbody>\n",
       "</table>\n",
       "</div>"
      ],
      "text/plain": [
       "                std           avg           min           max         count\n",
       "count  80491.000000  80491.000000  80491.000000  80491.000000  80491.000000\n",
       "mean     143.880931     97.081723   -204.926911    704.308407    107.477917\n",
       "std       78.158316    123.759868    235.831741    489.771975     97.391734\n",
       "min        0.000000   -963.000000  -3673.000000   -963.000000      1.000000\n",
       "25%      120.344372     43.787885   -323.000000    368.000000      8.000000\n",
       "50%      154.660022     85.727273   -218.000000    674.000000     93.000000\n",
       "75%      181.334604    129.000000   -100.000000    960.000000    179.000000\n",
       "max     1499.428308   4665.000000   4665.000000   8935.000000    606.000000"
      ]
     },
     "execution_count": 36,
     "metadata": {},
     "output_type": "execute_result"
    }
   ],
   "source": [
    "driver_attr.describe()"
   ]
  },
  {
   "cell_type": "code",
   "execution_count": null,
   "metadata": {},
   "outputs": [],
   "source": [
    "head ata simple_eta drvier"
   ]
  },
  {
   "cell_type": "code",
   "execution_count": null,
   "metadata": {},
   "outputs": [],
   "source": [
    "driver_id = ata-simple_eta"
   ]
  }
 ],
 "metadata": {
  "kernelspec": {
   "display_name": "DataAnalytics",
   "language": "python",
   "name": "da"
  },
  "language_info": {
   "codemirror_mode": {
    "name": "ipython",
    "version": 3
   },
   "file_extension": ".py",
   "mimetype": "text/x-python",
   "name": "python",
   "nbconvert_exporter": "python",
   "pygments_lexer": "ipython3",
   "version": "3.8.2"
  }
 },
 "nbformat": 4,
 "nbformat_minor": 4
}
