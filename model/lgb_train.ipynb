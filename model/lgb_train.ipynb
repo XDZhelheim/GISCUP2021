{
 "cells": [
  {
   "cell_type": "code",
   "execution_count": 1,
   "metadata": {},
   "outputs": [
    {
     "data": {
      "text/plain": [
       "'/home/cseadmin/undergrad1/dz/GISCUP2021/model'"
      ]
     },
     "execution_count": 1,
     "metadata": {},
     "output_type": "execute_result"
    }
   ],
   "source": [
    "import pandas as pd\n",
    "import numpy as np\n",
    "import lightgbm as lgb\n",
    "import pickle\n",
    "from sklearn.model_selection import train_test_split\n",
    "import time\n",
    "\n",
    "path=\"../data/\"\n",
    "seed=416\n",
    "\n",
    "pd.set_option('display.max_rows', 200)\n",
    "\n",
    "%pwd"
   ]
  },
  {
   "cell_type": "code",
   "execution_count": 2,
   "metadata": {},
   "outputs": [
    {
     "name": "stdout",
     "output_type": "stream",
     "text": [
      "Read data time = 2.92s\n",
      "<class 'pandas.core.frame.DataFrame'>\n",
      "Int64Index: 8651005 entries, 0 to 291609\n",
      "Columns: 328 entries, slice_id to type_time_ratio_3\n",
      "dtypes: bool(1), datetime64[ns](1), float16(252), float32(7), int16(36), int32(20), int8(11)\n",
      "memory usage: 5.7 GB\n",
      "None\n",
      "\n",
      "<class 'pandas.core.frame.DataFrame'>\n",
      "RangeIndex: 288076 entries, 0 to 288075\n",
      "Columns: 328 entries, slice_id to type_time_ratio_3\n",
      "dtypes: bool(1), datetime64[ns](1), float16(273), float32(15), int16(19), int32(3), int8(16)\n",
      "memory usage: 187.1 MB\n",
      "None\n"
     ]
    }
   ],
   "source": [
    "start = time.time()\n",
    "\n",
    "train = pd.read_pickle(path+'train/train.pkl')\n",
    "test = pd.read_pickle(path+'test/test.pkl')\n",
    "\n",
    "end = time.time()\n",
    "print(\"Read data time = {:.2f}s\".format(end-start))\n",
    "\n",
    "print(train.info())\n",
    "print()\n",
    "print(test.info())"
   ]
  },
  {
   "cell_type": "code",
   "execution_count": 3,
   "metadata": {},
   "outputs": [
    {
     "name": "stdout",
     "output_type": "stream",
     "text": [
      "324\n",
      "['slice_id', 'distance', 'simple_eta', 'speed', 'speed_avg', 'speed_std', 'speed_min', 'speed_max', 'volume', 'old_driver', 'driver_count', 'driver_ata_minus_simple_eta_std', 'driver_ata_minus_simple_eta_avg', 'driver_ata_minus_simple_eta_min', 'driver_ata_minus_simple_eta_max', 'driver_ata_minus_simple_eta_skew', 'driver_ata_minus_simple_eta_kurt', 'driver_ata_std', 'driver_ata_avg', 'driver_ata_min', 'driver_ata_max', 'driver_ata_skew', 'driver_ata_kurt', 'driver_distance_std', 'driver_distance_avg', 'driver_distance_min', 'driver_distance_max', 'driver_distance_skew', 'driver_distance_kurt', 'driver_simple_eta_std', 'driver_simple_eta_avg', 'driver_simple_eta_min', 'driver_simple_eta_max', 'driver_simple_eta_skew', 'driver_simple_eta_kurt', 'driver_slice_id_std', 'driver_slice_id_avg', 'driver_slice_id_min', 'driver_slice_id_max', 'driver_slice_id_skew', 'driver_slice_id_kurt', 'slice_avg', 'slice_std', 'slice_min', 'slice_max', 'slice_count', 'slice_skew', 'slice_kurt', 'link_no', 'link_time_sum', 'link_time_avg', 'link_time_std', 'link_time_max', 'link_time_min', 'link_time_std_sum', 'link_time_std_avg', 'link_time_std_std', 'link_time_std_min', 'link_time_std_max', 'link_time_avg_sum', 'link_time_avg_avg', 'link_time_avg_std', 'link_time_avg_min', 'link_time_avg_max', 'link_time_max_sum', 'link_time_max_avg', 'link_time_max_std', 'link_time_max_min', 'link_time_max_max', 'link_time_min_sum', 'link_time_min_avg', 'link_time_min_std', 'link_time_min_min', 'link_time_min_max', 'link_time_count_sum', 'link_time_count_avg', 'link_time_count_std', 'link_time_count_min', 'link_time_count_max', 'link_time_skew_sum', 'link_time_skew_avg', 'link_time_skew_std', 'link_time_skew_min', 'link_time_skew_max', 'link_time_kurt_sum', 'link_time_kurt_avg', 'link_time_kurt_std', 'link_time_kurt_min', 'link_time_kurt_max', 'link_cur_status_0_sum', 'link_cur_status_0_avg', 'link_cur_status_0_std', 'link_cur_status_0_min', 'link_cur_status_0_max', 'link_cur_status_1_sum', 'link_cur_status_1_avg', 'link_cur_status_1_std', 'link_cur_status_1_min', 'link_cur_status_1_max', 'link_cur_status_2_sum', 'link_cur_status_2_avg', 'link_cur_status_2_std', 'link_cur_status_2_min', 'link_cur_status_2_max', 'link_cur_status_3_sum', 'link_cur_status_3_avg', 'link_cur_status_3_std', 'link_cur_status_3_min', 'link_cur_status_3_max', 'link_cur_status_4_sum', 'link_cur_status_4_avg', 'link_cur_status_4_std', 'link_cur_status_4_min', 'link_cur_status_4_max', 'link_arr_status_0_sum', 'link_arr_status_0_avg', 'link_arr_status_0_std', 'link_arr_status_0_min', 'link_arr_status_0_max', 'link_arr_status_1_sum', 'link_arr_status_1_avg', 'link_arr_status_1_std', 'link_arr_status_1_min', 'link_arr_status_1_max', 'link_arr_status_2_sum', 'link_arr_status_2_avg', 'link_arr_status_2_std', 'link_arr_status_2_min', 'link_arr_status_2_max', 'link_arr_status_3_sum', 'link_arr_status_3_avg', 'link_arr_status_3_std', 'link_arr_status_3_min', 'link_arr_status_3_max', 'link_arr_status_4_sum', 'link_arr_status_4_avg', 'link_arr_status_4_std', 'link_arr_status_4_min', 'link_arr_status_4_max', 'time_delay_max', 'time_delay_avg', 'time_delay_std', 'current_no_0', 'current_no_1', 'current_no_2', 'current_no_3', 'current_no_4', 'current_time_sum_0', 'current_time_sum_1', 'current_time_sum_2', 'current_time_sum_3', 'current_time_sum_4', 'current_time_avg_0', 'current_time_avg_1', 'current_time_avg_2', 'current_time_avg_3', 'current_time_avg_4', 'current_time_std_0', 'current_time_std_1', 'current_time_std_2', 'current_time_std_3', 'current_time_std_4', 'current_time_max_0', 'current_time_max_1', 'current_time_max_2', 'current_time_max_3', 'current_time_max_4', 'current_time_min_0', 'current_time_min_1', 'current_time_min_2', 'current_time_min_3', 'current_time_min_4', 'next_no_0', 'next_no_1', 'next_no_2', 'next_no_3', 'next_no_4', 'next_time_sum_0', 'next_time_sum_1', 'next_time_sum_2', 'next_time_sum_3', 'next_time_sum_4', 'next_time_avg_0', 'next_time_avg_1', 'next_time_avg_2', 'next_time_avg_3', 'next_time_avg_4', 'next_time_std_0', 'next_time_std_1', 'next_time_std_2', 'next_time_std_3', 'next_time_std_4', 'next_time_max_0', 'next_time_max_1', 'next_time_max_2', 'next_time_max_3', 'next_time_max_4', 'next_time_min_0', 'next_time_min_1', 'next_time_min_2', 'next_time_min_3', 'next_time_min_4', 'type_no_0', 'type_no_1', 'type_no_2', 'type_no_3', 'type_time_sum_0', 'type_time_sum_1', 'type_time_sum_2', 'type_time_sum_3', 'type_time_avg_0', 'type_time_avg_1', 'type_time_avg_2', 'type_time_avg_3', 'type_time_std_0', 'type_time_std_1', 'type_time_std_2', 'type_time_std_3', 'type_time_max_0', 'type_time_max_1', 'type_time_max_2', 'type_time_max_3', 'type_time_min_0', 'type_time_min_1', 'type_time_min_2', 'type_time_min_3', 'time_type_no_0', 'time_type_no_1', 'time_type_no_2', 'time_type_no_3', 'time_type_no_4', 'time_type_no_6', 'time_type_no_7', 'time_type_no_8', 'time_type_time_sum_0', 'time_type_time_sum_1', 'time_type_time_sum_2', 'time_type_time_sum_3', 'time_type_time_sum_4', 'time_type_time_sum_6', 'time_type_time_sum_7', 'time_type_time_sum_8', 'time_type_time_avg_0', 'time_type_time_avg_1', 'time_type_time_avg_2', 'time_type_time_avg_3', 'time_type_time_avg_4', 'time_type_time_avg_6', 'time_type_time_avg_7', 'time_type_time_avg_8', 'time_type_time_std_0', 'time_type_time_std_1', 'time_type_time_std_2', 'time_type_time_std_3', 'time_type_time_std_4', 'time_type_time_std_6', 'time_type_time_std_7', 'time_type_time_std_8', 'time_type_time_max_0', 'time_type_time_max_1', 'time_type_time_max_2', 'time_type_time_max_3', 'time_type_time_max_4', 'time_type_time_max_6', 'time_type_time_max_7', 'time_type_time_max_8', 'time_type_time_min_0', 'time_type_time_min_1', 'time_type_time_min_2', 'time_type_time_min_3', 'time_type_time_min_4', 'time_type_time_min_6', 'time_type_time_min_7', 'time_type_time_min_8', 'cross_no', 'cross_sum', 'cross_avg', 'cross_std', 'cross_max', 'cross_min', 'link_status_no_0', 'link_status_no_1', 'link_status_no_2', 'link_status_no_3', 'link_status_no_4', 'time_type_no_5', 'time_type_time_sum_5', 'time_type_time_avg_5', 'time_type_time_std_5', 'time_type_time_max_5', 'time_type_time_min_5', 'day_bias', 'weekday', 'link_length', 'log_distance', 'log_simple_eta', 'current_no_ratio_0', 'current_time_ratio_0', 'next_no_ratio_0', 'next_time_ratio_0', 'current_no_ratio_1', 'current_time_ratio_1', 'next_no_ratio_1', 'next_time_ratio_1', 'current_no_ratio_2', 'current_time_ratio_2', 'next_no_ratio_2', 'next_time_ratio_2', 'current_no_ratio_3', 'current_time_ratio_3', 'next_no_ratio_3', 'next_time_ratio_3', 'current_no_ratio_4', 'current_time_ratio_4', 'next_no_ratio_4', 'next_time_ratio_4', 'type_no_ratio_0', 'type_time_ratio_0', 'type_no_ratio_1', 'type_time_ratio_1', 'type_no_ratio_2', 'type_time_ratio_2', 'type_no_ratio_3', 'type_time_ratio_3']\n"
     ]
    }
   ],
   "source": [
    "num_cols = [x for x in train.columns if x not in ['order_id', 'ata','date', 'driver_id',\n",
    "                                                  'arrival_0','arrival_1','arrival_2','arrival_3','arrival_4']]\n",
    "cat_cols = []\n",
    "features = num_cols + cat_cols\n",
    "\n",
    "train_x = train[features]\n",
    "train_y = np.log(train['ata'])\n",
    "\n",
    "test_x = test[features]\n",
    "\n",
    "print(len(features), features, sep=\"\\n\")"
   ]
  },
  {
   "cell_type": "code",
   "execution_count": 4,
   "metadata": {},
   "outputs": [
    {
     "name": "stdout",
     "output_type": "stream",
     "text": [
      "CPU times: user 6.65 s, sys: 1.32 s, total: 7.97 s\n",
      "Wall time: 7.97 s\n"
     ]
    }
   ],
   "source": [
    "%%time\n",
    "\n",
    "days = train['date'].unique()\n",
    "tr_days, val_days = train_test_split(days, test_size=0.2, random_state=seed)\n",
    "\n",
    "tr_x = train_x[train['date'].isin(tr_days)]\n",
    "tr_y = train_y[train['date'].isin(tr_days)]\n",
    "val_x = train_x[train['date'].isin(val_days)]\n",
    "val_y = train_y[train['date'].isin(val_days)]\n",
    "\n",
    "# tr_x, val_x, tr_y, val_y = train_test_split(train_x,train_y,test_size=0.2,random_state=seed)\n",
    "\n",
    "train_set = lgb.Dataset(tr_x, tr_y, categorical_feature=cat_cols)\n",
    "val_set = lgb.Dataset(val_x, val_y, categorical_feature=cat_cols)"
   ]
  },
  {
   "cell_type": "code",
   "execution_count": 5,
   "metadata": {},
   "outputs": [],
   "source": [
    "lgb_paras = {\n",
    "    'objective': 'regression',\n",
    "    'metrics': 'rmse',\n",
    "    'learning_rate': 0.1,\n",
    "    'seed': seed,\n",
    "    'feature_fraction': 1,\n",
    "    'boost_from_average':'false',\n",
    "\n",
    "    'num_leaves': 30,\n",
    "    'max_depth': 5,\n",
    "    'lambda_l1': 0.01,\n",
    "    'lambda_l2': 0.02,\n",
    "    'bagging_fraction': 0.8,\n",
    "    'bagging_freq': 3,\n",
    "    'min_data_in_leaf': 20,\n",
    "\n",
    "    'num_threads': 24,\n",
    "\n",
    "    'verbose': -1,\n",
    "    'device': 'gpu'\n",
    "}"
   ]
  },
  {
   "cell_type": "code",
   "execution_count": null,
   "metadata": {},
   "outputs": [],
   "source": [
    "%%time\n",
    "\n",
    "lgb_model = lgb.train(lgb_paras, train_set, categorical_feature=cat_cols,\n",
    "                      valid_sets=[train_set, val_set], early_stopping_rounds=500, num_boost_round=80000, verbose_eval=100)"
   ]
  },
  {
   "cell_type": "code",
   "execution_count": null,
   "metadata": {},
   "outputs": [],
   "source": [
    "feature_importance_df = pd.DataFrame()\n",
    "feature_importance_df[\"feature\"] = features\n",
    "feature_importance_df[\"importance\"] = lgb_model.feature_importance()\n",
    "feature_importance_df.sort_values('importance', ascending=False)"
   ]
  },
  {
   "cell_type": "code",
   "execution_count": null,
   "metadata": {},
   "outputs": [],
   "source": [
    "pred_y = lgb_model.predict(test_x, num_iteration=lgb_model.best_iteration)\n",
    "\n",
    "submit = pd.DataFrame(columns=['id','result'])\n",
    "submit['id'] = test['order_id']\n",
    "submit['result'] = np.exp(pred_y).astype('int')\n",
    "\n",
    "import datetime\n",
    "submit.to_csv(f'../results/lgb_submission_{str(datetime.datetime.now())}.csv', index=False)\n",
    "\n",
    "import joblib\n",
    "joblib.dump(lgb_model, f\"../saved_model/lgb_model_{str(datetime.datetime.now())}\")"
   ]
  }
 ],
 "metadata": {
  "kernelspec": {
   "display_name": "dz",
   "language": "python",
   "name": "dz"
  },
  "language_info": {
   "codemirror_mode": {
    "name": "ipython",
    "version": 3
   },
   "file_extension": ".py",
   "mimetype": "text/x-python",
   "name": "python",
   "nbconvert_exporter": "python",
   "pygments_lexer": "ipython3",
   "version": "3.8.2"
  }
 },
 "nbformat": 4,
 "nbformat_minor": 2
}
