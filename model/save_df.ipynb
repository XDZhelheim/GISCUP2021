{
 "metadata": {
  "orig_nbformat": 4,
  "kernelspec": {
   "name": "dz",
   "display_name": "dz",
   "language": "python"
  }
 },
 "nbformat": 4,
 "nbformat_minor": 2,
 "cells": [
  {
   "cell_type": "code",
   "execution_count": 21,
   "metadata": {},
   "outputs": [
    {
     "output_type": "execute_result",
     "data": {
      "text/plain": [
       "'/home/cseadmin/undergrad1/dz/GISCUP2021/model'"
      ]
     },
     "metadata": {},
     "execution_count": 21
    }
   ],
   "source": [
    "import pandas as pd\n",
    "import numpy as np\n",
    "import pickle\n",
    "import datetime\n",
    "from sklearn.model_selection import KFold, train_test_split\n",
    "import os\n",
    "\n",
    "path=\"../data/\"\n",
    "\n",
    "os.getcwd()"
   ]
  },
  {
   "cell_type": "code",
   "execution_count": 22,
   "metadata": {},
   "outputs": [],
   "source": [
    "train = pd.read_csv(path+'train/train.csv')\n",
    "test = pd.read_csv(path+'test/test.csv')\n",
    "\n",
    "test['date'] = '20200901'\n",
    "train['date'] = pd.to_datetime(train['date'].astype('str'))\n",
    "test['date'] = pd.to_datetime(test['date'])\n",
    "\n",
    "for df in [train, test]:\n",
    "    df['day_bias'] = (df['date']-pd.Timestamp(2020,8,1)).dt.days\n",
    "    df['weekday'] = df['date'].dt.weekday<5\n",
    "    df['cross_no'] = df['cross_no']*(df['cross_sum']>0)\n",
    "    df['link_length'] = df['distance']/df['link_no']\n",
    "    df['log_distance'] = np.log(df['distance'])\n",
    "    df['log_simple_eta'] = np.log(df['simple_eta'])\n",
    "    \n",
    "    for i in range(5):\n",
    "        df['current_no_ratio_'+str(i)] = df['current_no_'+str(i)]/df['link_no']\n",
    "        df['current_time_ratio_'+str(i)] = df['current_time_sum_'+str(i)]/(df['simple_eta']-df['cross_sum'])\n",
    "        df['next_no_ratio_'+str(i)] = df['next_no_'+str(i)]/df['link_no']\n",
    "        df['next_time_ratio_'+str(i)] = df['next_time_sum_'+str(i)]/(df['simple_eta']-df['cross_sum'])\n",
    "    for i in range(4):\n",
    "        df['type_no_ratio_'+str(i)] = df['type_no_'+str(i)]/df['link_no']\n",
    "        df['type_time_ratio_'+str(i)] = df['type_time_sum_'+str(i)]/(df['simple_eta']-df['cross_sum'])"
   ]
  },
  {
   "cell_type": "code",
   "execution_count": 23,
   "metadata": {},
   "outputs": [
    {
     "output_type": "stream",
     "name": "stdout",
     "text": [
      "Memory usage after optimization is: 2565.83 MB\n",
      "Decreased by 74.1%\n",
      "Memory usage after optimization is: 84.07 MB\n",
      "Decreased by 74.5%\n",
      "<class 'pandas.core.frame.DataFrame'>\n",
      "RangeIndex: 8651005 entries, 0 to 8651004\n",
      "Columns: 151 entries, slice_id to type_time_ratio_3\n",
      "dtypes: bool(1), datetime64[ns](1), float16(119), float32(1), int16(19), int32(4), int8(6)\n",
      "memory usage: 2.5 GB\n",
      "None\n",
      "<class 'pandas.core.frame.DataFrame'>\n",
      "RangeIndex: 288076 entries, 0 to 288075\n",
      "Columns: 151 entries, slice_id to type_time_ratio_3\n",
      "dtypes: bool(1), datetime64[ns](1), float16(119), float32(1), int16(17), int32(3), int8(9)\n",
      "memory usage: 84.1 MB\n",
      "None\n"
     ]
    }
   ],
   "source": [
    "def reduce_mem_usage(df, verbose=True):\n",
    "    numerics = ['int16', 'int32', 'int64', 'float16', 'float32', 'float64']\n",
    "    start_mem = df.memory_usage().sum() / 1024**2\n",
    "    for col in df.columns:\n",
    "        col_type = df[col].dtypes\n",
    "        if col_type in numerics:\n",
    "            c_min = df[col].min()\n",
    "            c_max = df[col].max()\n",
    "            if str(col_type)[:3] == 'int':\n",
    "                if c_min > np.iinfo(np.int8).min and c_max < np.iinfo(np.int8).max:\n",
    "                    df[col] = df[col].astype(np.int8)\n",
    "                elif c_min > np.iinfo(np.int16).min and c_max < np.iinfo(np.int16).max:\n",
    "                    df[col] = df[col].astype(np.int16)\n",
    "                elif c_min > np.iinfo(np.int32).min and c_max < np.iinfo(np.int32).max:\n",
    "                    df[col] = df[col].astype(np.int32)\n",
    "                elif c_min > np.iinfo(np.int64).min and c_max < np.iinfo(np.int64).max:\n",
    "                    df[col] = df[col].astype(np.int64)\n",
    "            else:\n",
    "                if c_min > np.finfo(np.float16).min and c_max < np.finfo(np.float16).max:\n",
    "                    df[col] = df[col].astype(np.float16)\n",
    "                elif c_min > np.finfo(np.float32).min and c_max < np.finfo(np.float32).max:\n",
    "                    df[col] = df[col].astype(np.float32)\n",
    "                else:\n",
    "                    df[col] = df[col].astype(np.float64)\n",
    "\n",
    "    end_mem = df.memory_usage().sum() / 1024**2\n",
    "    print('Memory usage after optimization is: {:.2f} MB'.format(end_mem))\n",
    "    print('Decreased by {:.1f}%'.format(100 * (start_mem - end_mem) / start_mem))\n",
    "\n",
    "    return df\n",
    "    \n",
    "train = reduce_mem_usage(train)\n",
    "test = reduce_mem_usage(test)\n",
    "print(train.info())\n",
    "print(test.info())"
   ]
  },
  {
   "cell_type": "code",
   "execution_count": 24,
   "metadata": {},
   "outputs": [],
   "source": [
    "train.to_pickle(path+'train/train.pkl')\n",
    "test.to_pickle(path+'test/test.pkl')"
   ]
  }
 ]
}